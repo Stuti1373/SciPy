{
 "cells": [
  {
   "cell_type": "markdown",
   "metadata": {},
   "source": [
    "<a href=\"https://colab.research.google.com/github/Stuti1373/SciPy/blob/main/Scientific_Python.ipynb\" target=\"_parent\"><img src=\"https://colab.research.google.com/assets/colab-badge.svg\" alt=\"Open In Colab\"/></a>"
   ]
  },
  {
   "cell_type": "markdown",
   "metadata": {
    "colab_type": "text",
    "id": "eR2b3GqQxCDe"
   },
   "source": [
    " <center><h1>Introduction to Scientific Python</h1><center>\n",
    "\n",
    " <center>\n",
    " <h3>Texas A&amp;M High Performance Research Computing (TAMU HPRC)<br>\n",
    " Stuti Trivedi (HPRC), modified from original notebook by Yang Liu/ Tri Pham (HPRC)</h3>\n",
    " <h3><a href=\"https://hprc.tamu.edu/training/intro_scientific_python.html\">course web page</a></h3>\n",
    " <h4>Last update: February 26th, 2021</h4>\n",
    " </center>\n",
    "\n",
    " <h4>Disclaimer: This notebook is provided as-is without warranty of any kind.</h4> "
   ]
  },
  {
   "cell_type": "markdown",
   "metadata": {
    "colab_type": "text",
    "id": "JAAIwRA8xCDg"
   },
   "source": [
    "# Acknowledgement\n",
    "This tutorial was constructed based on \n",
    "1. [Numpy Tutorial](https://docs.scipy.org/doc/numpy/user/quickstart.html)\n",
    "2. [Linear Algebra (Scipy Tutorial)](https://docs.scipy.org/doc/scipy/reference/tutorial/linalg.html)\n",
    "3. [Matplotlib Tutorial](https://matplotlib.org/tutorials/introductory/pyplot.html)\n",
    "4. [NumPy and Numba](http://numba.pydata.org/numba-doc/0.12/tutorial_numpy_and_numba.html) \n",
    "\n",
    "Think of this as a collection of handpick topics in each of the above tutorials. Feel free to check out the origial links for each topic."
   ]
  },
  {
   "cell_type": "markdown",
   "metadata": {
    "colab_type": "text",
    "id": "csMyq2ThxCDg"
   },
   "source": [
    " # Agenda\n",
    "\n",
    " - Numpy\n",
    " - Matplotlib\n",
    " - Scipy\n",
    " - Numba\n",
    " - Errors in Sicentific Computing"
   ]
  },
  {
   "cell_type": "markdown",
   "metadata": {},
   "source": [
    " # Why do we use Scientific Python?\n",
    "\n",
    " - Python has built in support for scientific computing\n",
    " - Highly extensible language\n",
    " - Good I/O options\n",
    " - Built in options for task automation \n",
    " - Python can use web frontend for consuming data\n",
    " - Python is used for data driven scientific research\n",
    " - Python is used for discovery based scientific research"
   ]
  },
  {
   "cell_type": "markdown",
   "metadata": {
    "colab_type": "text",
    "id": "HqX9AdrNxCDh"
   },
   "source": [
    " Before we begin, let us import some libraries that we will use throughout the tutorial."
   ]
  },
  {
   "cell_type": "code",
   "execution_count": 3,
   "metadata": {
    "colab": {},
    "colab_type": "code",
    "id": "cnin6xBixCDi"
   },
   "outputs": [],
   "source": [
    "import numpy as np\n",
    "import matplotlib.pyplot as plt"
   ]
  },
  {
   "cell_type": "markdown",
   "metadata": {
    "colab_type": "text",
    "id": "_V8Dei88xCDl"
   },
   "source": [
    " # 1 Numpy\n",
    "\n",
    " "
   ]
  },
  {
   "cell_type": "markdown",
   "metadata": {
    "colab_type": "text",
    "id": "GbBBaDbEAC7n"
   },
   "source": [
    "##1.1 What is NumPy\n",
    " Numpy is a fundamental package for scientific computing in python. It provides:\n",
    " - Multidiensional array object and various derived objects (matrices, etc.),\n",
    " - Routines for fast operations on arrays: mathematical, shape manipulation, sorting, and so on.\n",
    " Other widely usaged packages (Scipy, Biopython, Pandas, etc.) are built on Numpy.\n",
    " **Source:** [What is NumPy](https://docs.scipy.org/doc/numpy-1.13.0/user/whatisnumpy.html)\n"
   ]
  },
  {
   "cell_type": "code",
   "execution_count": 3,
   "metadata": {
    "colab": {
     "base_uri": "https://localhost:8080/",
     "height": 68
    },
    "colab_type": "code",
    "executionInfo": {
     "elapsed": 1025,
     "status": "ok",
     "timestamp": 1568910493817,
     "user": {
      "displayName": "Minh Tri Pham",
      "photoUrl": "",
      "userId": "16060185323521223989"
     },
     "user_tz": 300
    },
    "id": "R-JY4_QVxCDm",
    "outputId": "c2eb1725-fa65-4b35-afef-cbdd3d69b6cd"
   },
   "outputs": [
    {
     "data": {
      "text/plain": [
       "(4, 3)"
      ]
     },
     "execution_count": 3,
     "metadata": {},
     "output_type": "execute_result"
    }
   ],
   "source": [
    "import numpy as np\n",
    "a = np.array([[1, 2, 3],\n",
    "              [4, 5, 6],[7,8,9],[10,11,12]])\n",
    "a.shape"
   ]
  },
  {
   "cell_type": "markdown",
   "metadata": {},
   "source": [
    "### List vs Numpy Arrays"
   ]
  },
  {
   "cell_type": "code",
   "execution_count": 5,
   "metadata": {},
   "outputs": [],
   "source": [
    "#list1: Height of students\n",
    "height=[165,177,175,180,155,150,150,160]\n",
    "\n",
    "#list2: Weight of students\n",
    "weight=[70,80,75,70,60,75,70,50]\n",
    "#BMI_list= (weight/pow(height,2))*10000\n",
    "\n"
   ]
  },
  {
   "cell_type": "code",
   "execution_count": 6,
   "metadata": {},
   "outputs": [
    {
     "name": "stdout",
     "output_type": "stream",
     "text": [
      "[25.71166208 25.53544639 24.48979592 21.60493827 24.97398543 33.33333333\n",
      " 31.11111111 19.53125   ]\n"
     ]
    }
   ],
   "source": [
    "np_height=np.array(height) #converting list into array\n",
    "np_weight=np.array(weight)\n",
    "bmi=(np_weight /pow(np_height,2))*10000 #Body Mass Index\n",
    "print(bmi)"
   ]
  },
  {
   "cell_type": "code",
   "execution_count": 7,
   "metadata": {},
   "outputs": [
    {
     "data": {
      "text/plain": [
       "array([25.71166208, 25.53544639, 24.48979592, 24.97398543, 33.33333333,\n",
       "       31.11111111])"
      ]
     },
     "execution_count": 7,
     "metadata": {},
     "output_type": "execute_result"
    }
   ],
   "source": [
    "bmi[bmi>24]\n"
   ]
  },
  {
   "cell_type": "code",
   "execution_count": 9,
   "metadata": {},
   "outputs": [
    {
     "data": {
      "image/png": "[encoded data removed]",
      "text/plain": [
       "<Figure size 432x288 with 1 Axes>"
      ]
     },
     "metadata": {
      "needs_background": "light"
     },
     "output_type": "display_data"
    }
   ],
   "source": [
    "%matplotlib inline\n",
    "import matplotlib.pyplot as plt\n",
    "plt.plot(bmi)\n",
    "plt.show()"
   ]
  },
  {
   "cell_type": "code",
   "execution_count": 10,
   "metadata": {},
   "outputs": [
    {
     "data": {
      "image/png": "[encoded data removed]",
      "text/plain": [
       "<Figure size 432x288 with 1 Axes>"
      ]
     },
     "metadata": {
      "needs_background": "light"
     },
     "output_type": "display_data"
    }
   ],
   "source": [
    "%matplotlib inline\n",
    "import matplotlib.pyplot as plt\n",
    "plt.hist(bmi)\n",
    "plt.title(\"BMI Range\")\n",
    "plt.show()"
   ]
  },
  {
   "cell_type": "markdown",
   "metadata": {
    "colab_type": "text",
    "id": "KOdzOazAxCDp"
   },
   "source": [
    " Let's examine a above attributes of array a."
   ]
  },
  {
   "cell_type": "code",
   "execution_count": 5,
   "metadata": {},
   "outputs": [
    {
     "name": "stdout",
     "output_type": "stream",
     "text": [
      "a.size = 12 (12 elements [1, 2, 3, 4, 5, 6, 7, 8, 9, 10, 11, 12])\n",
      "a.ndim = 2 (2 dimensions => rank = 2)\n",
      "a.shape = (4, 3) (4 rows, 3 columns)\n",
      "a.dtype = int64 (64-bit integer)\n"
     ]
    }
   ],
   "source": [
    "print(f'a.size = {a.size} ({a.size} elements {list(range(1, a.size + 1))})')\n",
    "print(f'a.ndim = {a.ndim} ({a.ndim} dimensions => rank = 2)')\n",
    "print(f'a.shape = {a.shape} ({a.shape[0]} rows, {a.shape[1]} columns)')\n",
    "print(f'a.dtype = {a.dtype} (64-bit integer)')"
   ]
  },
  {
   "cell_type": "markdown",
   "metadata": {
    "colab_type": "text",
    "id": "VgP7naHMHXhc"
   },
   "source": [
    "Source: https://www.datacamp.com/community/tutorials/python-numpy-tutorial"
   ]
  },
  {
   "cell_type": "markdown",
   "metadata": {
    "colab_type": "text",
    "id": "49Wi0gfxxCDs"
   },
   "source": [
    " [More information about data types](https://docs.scipy.org/doc/numpy-1.10.0/user/basics.types.html)"
   ]
  },
  {
   "cell_type": "markdown",
   "metadata": {
    "colab_type": "text",
    "id": "EZwvtS_KxCDs"
   },
   "source": [
    " ## 1.2 Operations on Arrays\n",
    " Arithemetic operations on arrays are element-wise operations, while some other functions are not."
   ]
  },
  {
   "cell_type": "markdown",
   "metadata": {
    "colab_type": "text",
    "id": "3bQHs9Q-xCDt"
   },
   "source": [
    " ### a. Array creation:"
   ]
  },
  {
   "cell_type": "code",
   "execution_count": null,
   "metadata": {
    "colab": {},
    "colab_type": "code",
    "id": "4YsMpvosxCDt"
   },
   "outputs": [],
   "source": [
    "a = np.array([10, 20, 40])\n",
    "b = np.array([[1, 2, 3],\n",
    "              [4, 5, 6]])"
   ]
  },
  {
   "cell_type": "markdown",
   "metadata": {
    "colab_type": "text",
    "id": "WTVprfD6xCDv"
   },
   "source": [
    " The above will create 2 NumPy array. (For array b, notice the use of an extra pair of square brackets)"
   ]
  },
  {
   "cell_type": "code",
   "execution_count": null,
   "metadata": {
    "colab": {
     "base_uri": "https://localhost:8080/",
     "height": 51
    },
    "colab_type": "code",
    "executionInfo": {
     "elapsed": 1010,
     "status": "ok",
     "timestamp": 1568910493819,
     "user": {
      "displayName": "Minh Tri Pham",
      "photoUrl": "",
      "userId": "16060185323521223989"
     },
     "user_tz": 300
    },
    "id": "39d4Y9ghxCDw",
    "outputId": "77b5b3a3-70f2-4b32-e6f9-e8b175d845f5"
   },
   "outputs": [],
   "source": [
    "print(\"a = \")\n",
    "a"
   ]
  },
  {
   "cell_type": "code",
   "execution_count": null,
   "metadata": {
    "colab": {
     "base_uri": "https://localhost:8080/",
     "height": 68
    },
    "colab_type": "code",
    "executionInfo": {
     "elapsed": 1004,
     "status": "ok",
     "timestamp": 1568910493820,
     "user": {
      "displayName": "Minh Tri Pham",
      "photoUrl": "",
      "userId": "16060185323521223989"
     },
     "user_tz": 300
    },
    "id": "U1nLg6emxCDy",
    "outputId": "28990fd5-ef0e-4cae-ec51-0e6baef2cb90"
   },
   "outputs": [],
   "source": [
    "print(\"b = \")\n",
    "b"
   ]
  },
  {
   "cell_type": "markdown",
   "metadata": {
    "colab_type": "text",
    "id": "rX-N1pQQxCD0"
   },
   "source": [
    " There are many ways to create NumPy array. Check out the [documentations](https://docs.scipy.org/doc/numpy-1.15.0/user/basics.creation.html) for more 😄."
   ]
  },
  {
   "cell_type": "markdown",
   "metadata": {
    "colab_type": "text",
    "id": "t4KwPfFixCD1"
   },
   "source": [
    " ### b. Basic operations on NumPy array:"
   ]
  },
  {
   "cell_type": "markdown",
   "metadata": {
    "colab_type": "text",
    "id": "_xfgpDI5xCD2"
   },
   "source": [
    " Let's define some arrays:"
   ]
  },
  {
   "cell_type": "code",
   "execution_count": 24,
   "metadata": {},
   "outputs": [
    {
     "name": "stdout",
     "output_type": "stream",
     "text": [
      "[0. 0. 0. 0. 0. 0. 0. 0. 0. 0.]\n",
      "[1. 1. 1. 1. 1.]\n",
      "<class 'numpy.ndarray'>\n"
     ]
    },
    {
     "data": {
      "text/plain": [
       "numpy.float64"
      ]
     },
     "execution_count": 24,
     "metadata": {},
     "output_type": "execute_result"
    }
   ],
   "source": [
    "x=np.zeros(10)\n",
    "y=np.ones(5)\n",
    "print(x)\n",
    "print(y)\n",
    "print(type(x))\n",
    "type(x[0])"
   ]
  },
  {
   "cell_type": "code",
   "execution_count": 26,
   "metadata": {},
   "outputs": [
    {
     "name": "stdout",
     "output_type": "stream",
     "text": [
      "(10, 1)\n"
     ]
    },
    {
     "data": {
      "text/plain": [
       "array([[0., 0., 0., 0., 0.],\n",
       "       [0., 0., 0., 0., 0.]])"
      ]
     },
     "execution_count": 26,
     "metadata": {},
     "output_type": "execute_result"
    }
   ],
   "source": [
    "print(np.shape(x))\n",
    "x.shape=(2,5)\n",
    "x"
   ]
  },
  {
   "cell_type": "code",
   "execution_count": 27,
   "metadata": {},
   "outputs": [
    {
     "data": {
      "text/plain": [
       "array([ 2.,  4.,  6.,  8., 10.])"
      ]
     },
     "execution_count": 27,
     "metadata": {},
     "output_type": "execute_result"
    }
   ],
   "source": [
    "z=np.linspace(2,10,5)\n",
    "z"
   ]
  },
  {
   "cell_type": "code",
   "execution_count": 28,
   "metadata": {},
   "outputs": [
    {
     "data": {
      "text/plain": [
       "array([[1, 2, 3, 4]])"
      ]
     },
     "execution_count": 28,
     "metadata": {},
     "output_type": "execute_result"
    }
   ],
   "source": [
    "a_list=[1,2,3,4]\n",
    "np_list=np.array([a_list])\n",
    "np_list"
   ]
  },
  {
   "cell_type": "code",
   "execution_count": 31,
   "metadata": {},
   "outputs": [
    {
     "data": {
      "text/plain": [
       "(1, 3, 7)"
      ]
     },
     "execution_count": 31,
     "metadata": {},
     "output_type": "execute_result"
    }
   ],
   "source": [
    "b_list=[[1,2,3,4,5,6,7],[8,9,10,11,12,13,14],[15,16,17,18,19,20,21]]\n",
    "np_b_list=np.array([b_list])\n",
    "np_b_list.shape"
   ]
  },
  {
   "cell_type": "code",
   "execution_count": null,
   "metadata": {
    "colab": {
     "base_uri": "https://localhost:8080/",
     "height": 51
    },
    "colab_type": "code",
    "executionInfo": {
     "elapsed": 997,
     "status": "ok",
     "timestamp": 1568910493820,
     "user": {
      "displayName": "Minh Tri Pham",
      "photoUrl": "",
      "userId": "16060185323521223989"
     },
     "user_tz": 300
    },
    "id": "kH05IvUpxCD2",
    "outputId": "e66e67ef-45c0-488e-a392-e013c26a910f"
   },
   "outputs": [],
   "source": [
    "a = np.array([10, 20, 40])\n",
    "b = np.random.random((3))\n",
    "print(f'a = {a}')\n",
    "print(f'b = {b}')"
   ]
  },
  {
   "cell_type": "markdown",
   "metadata": {
    "colab_type": "text",
    "id": "xJB04g-lxCD4"
   },
   "source": [
    " Arithmetic operators are applied elementwise."
   ]
  },
  {
   "cell_type": "code",
   "execution_count": null,
   "metadata": {
    "colab": {
     "base_uri": "https://localhost:8080/",
     "height": 85
    },
    "colab_type": "code",
    "executionInfo": {
     "elapsed": 992,
     "status": "ok",
     "timestamp": 1568910493821,
     "user": {
      "displayName": "Minh Tri Pham",
      "photoUrl": "",
      "userId": "16060185323521223989"
     },
     "user_tz": 300
    },
    "id": "cbVsMG-CxCD5",
    "outputId": "f65da206-0f27-43a2-c67c-bcd769e8dc21"
   },
   "outputs": [],
   "source": [
    "print('a + b =', a + b)\n",
    "print('a - b', a - b)\n",
    "print('abs(b - a)', np.abs(b - a))\n",
    "print('a < b =', a < b)"
   ]
  },
  {
   "cell_type": "markdown",
   "metadata": {
    "colab_type": "text",
    "id": "SyJ_sC7vxCD7"
   },
   "source": [
    " **Note:** when operating on matrices, **'*'***: operates elementwise. If you needs to apply dot product between 2 matrices (say A and B), the correct syntax is\n",
    " ```python\n",
    " A.dot(B)\n",
    " ```\n",
    " or\n",
    " ```python\n",
    " np.dot(A, B)\n",
    " ```"
   ]
  },
  {
   "cell_type": "markdown",
   "metadata": {
    "colab_type": "text",
    "id": "JA6Wm5M2xCD7"
   },
   "source": [
    " Unary operations"
   ]
  },
  {
   "cell_type": "code",
   "execution_count": null,
   "metadata": {
    "colab": {
     "base_uri": "https://localhost:8080/",
     "height": 136
    },
    "colab_type": "code",
    "executionInfo": {
     "elapsed": 1075,
     "status": "ok",
     "timestamp": 1568910493909,
     "user": {
      "displayName": "Minh Tri Pham",
      "photoUrl": "",
      "userId": "16060185323521223989"
     },
     "user_tz": 300
    },
    "id": "zAzc6nVIxCD8",
    "outputId": "de8d726f-f0bd-450a-a6d9-609415828610"
   },
   "outputs": [],
   "source": [
    "print('sin(a) =', np.sin(a))\n",
    "print('sqrt(a) =', np.sqrt(a))\n",
    "print('power(a) =', np.power(a, 3))\n",
    "print('sum(a) =', np.sum(a))\n",
    "print('mean(a) =', np.mean(a))\n",
    "print('min(a) = ', np.min(a))\n",
    "print('max(a) = ', np.max(a))"
   ]
  },
  {
   "cell_type": "markdown",
   "metadata": {
    "colab_type": "text",
    "id": "qOSW-U_PxCD9"
   },
   "source": [
    " Some of the above operations has alternative syntaxs."
   ]
  },
  {
   "cell_type": "code",
   "execution_count": null,
   "metadata": {
    "colab": {
     "base_uri": "https://localhost:8080/",
     "height": 85
    },
    "colab_type": "code",
    "executionInfo": {
     "elapsed": 1071,
     "status": "ok",
     "timestamp": 1568910493910,
     "user": {
      "displayName": "Minh Tri Pham",
      "photoUrl": "",
      "userId": "16060185323521223989"
     },
     "user_tz": 300
    },
    "id": "lWQrrDQlxCD-",
    "outputId": "b5ef7e45-06d5-443f-88b5-e191a70e3f3e"
   },
   "outputs": [],
   "source": [
    "print('sum(a) =', a.sum())\n",
    "print('mean(a) =', a.mean())\n",
    "print('min(a) = ', a.min())\n",
    "print('max(a) = ', a.max())"
   ]
  },
  {
   "cell_type": "markdown",
   "metadata": {},
   "source": [
    "#### Heads or Tails"
   ]
  },
  {
   "cell_type": "code",
   "execution_count": null,
   "metadata": {},
   "outputs": [],
   "source": [
    "np.random.seed(0)\n",
    "z1=np.random.randint(0,2, size=10)\n",
    "z1"
   ]
  },
  {
   "cell_type": "code",
   "execution_count": null,
   "metadata": {},
   "outputs": [],
   "source": [
    "np.random.seed(123)\n",
    "final_tails=[]\n",
    "for x in range(100):\n",
    "    tails=[0]\n",
    "    for x in range(10):\n",
    "        coin=np.random.randint(0,2)\n",
    "        tails.append(tails[x]+coin)\n",
    "    final_tails.append(tails[-1])\n",
    "print(final_tails)  "
   ]
  },
  {
   "cell_type": "code",
   "execution_count": null,
   "metadata": {},
   "outputs": [],
   "source": [
    "import matplotlib.pyplot as plt\n",
    "plt.hist(final_tails,bins=10)\n",
    "plt.show()"
   ]
  },
  {
   "cell_type": "markdown",
   "metadata": {
    "colab_type": "text",
    "id": "CYWQPxKYxCEA"
   },
   "source": [
    " **Question: Why above operations operate the way they do (element-by-element)?**\n",
    " This leads us to two important concepts: vectorization and broadcasting.\n",
    " According to [NumPy docs](https://docs.scipy.org/doc/numpy-1.13.0/user/whatisnumpy.html):\n",
    " ```\n",
    " \"Vectorization describes the absence of any explicit looping, indexing, etc., in the code - these things are taking place, of course, just “behind the scenes” in optimized, pre-compiled C code. Key functions used in Vectorization:\n",
    "outer(a, b): Compute the outer product of two vectors.\n",
    "multiply(a, b): Matrix product of two arrays.\n",
    "dot(a, b): Dot product of two arrays.\n",
    "zeros((n, m)): Return a matrix of given shape and type, filled with zeros.\n",
    "process_time(): Return the value (in fractional seconds) of the sum of the system and user CPU time of the current process. It does not include time elapsed during sleep.\n",
    "\n",
    " Broadcasting is the term used to describe the implicit element-by-element behavior of operations; generally speaking, in NumPy all operations, not just arithmetic operations, but logical, bit-wise, functional, etc., behave in this implicit element-by-element fashion, i.e., they broadcast.\"- NumPy docs.\n",
    " ```"
   ]
  },
  {
   "cell_type": "markdown",
   "metadata": {},
   "source": [
    "### Dot Product \n",
    " According to [Vectorization docs](https://www.geeksforgeeks.org/vectorization-in-python/):\n",
    "Dot product is an algebraic operation in which two equal length vectors are being multiplied such that it produces a single number. Dot Product often called as inner product."
   ]
  },
  {
   "cell_type": "code",
   "execution_count": null,
   "metadata": {},
   "outputs": [],
   "source": [
    "# Dot product \n",
    "import time \n",
    "import numpy \n",
    "import array \n",
    "  \n",
    "# 8 bytes size int \n",
    "a = array.array('q') \n",
    "for i in range(1000): \n",
    "    a.append(i); \n",
    "  \n",
    "b = array.array('q') \n",
    "for i in range(1000, 2000): \n",
    "    b.append(i) \n",
    "  \n",
    "# classic dot product of vectors implementation  \n",
    "tic = time.process_time() \n",
    "dot = 0.0; \n",
    "  \n",
    "for i in range(len(a)): \n",
    "      dot += a[i] * b[i] \n",
    "  \n",
    "toc = time.process_time() \n",
    "  \n",
    "print(\"dot_product = \"+ str(dot)); \n",
    "print(\"Computation time = \" + str(1000*(toc - tic )) + \"ms\") \n",
    "   \n",
    "  \n",
    "n_tic = time.process_time() \n",
    "n_dot_product = numpy.dot(a, b) \n",
    "n_toc = time.process_time() \n",
    "  \n",
    "print(\"\\nn_dot_product = \"+str(n_dot_product)) \n",
    "print(\"Computation time = \"+str(1000*(n_toc - n_tic ))+\"ms\") "
   ]
  },
  {
   "cell_type": "markdown",
   "metadata": {},
   "source": [
    "### Element wise Product:\n",
    "According to [Vectorization docs](https://www.geeksforgeeks.org/vectorization-in-python/):\n",
    "Element-wise multiplication of two matrices is the algebraic operation in which each element of first matrix is multiplied by its corresponding element in the later matrix. Dimension of the matrices should be same."
   ]
  },
  {
   "cell_type": "markdown",
   "metadata": {
    "colab_type": "text",
    "id": "AdvhFeL9xCEA"
   },
   "source": [
    " ### c. Reshape an Array\n",
    " The shape of an array a can be changed by\n",
    " <ul>\n",
    "     <li> a.shape = (): the shape of a is actually changed\n",
    "     <li> a.resize(): the shape of a is actually changed\n",
    "     <li> a.reshape(): the shape of a does not change\n",
    " </ul>"
   ]
  },
  {
   "cell_type": "code",
   "execution_count": null,
   "metadata": {
    "colab": {
     "base_uri": "https://localhost:8080/",
     "height": 0
    },
    "colab_type": "code",
    "executionInfo": {
     "elapsed": 1065,
     "status": "ok",
     "timestamp": 1568910493910,
     "user": {
      "displayName": "Minh Tri Pham",
      "photoUrl": "",
      "userId": "16060185323521223989"
     },
     "user_tz": 300
    },
    "id": "C0SrPTPPxCEB",
    "outputId": "91fb8576-d0b8-41d0-e870-410c1ca0e6cd"
   },
   "outputs": [],
   "source": [
    "a = np.arange(24)\n",
    "print('a =', a)\n",
    "b = a.reshape(3, 8)\n",
    "print('After a.reshape(3, 8), b =')\n",
    "print(b)\n",
    "print('After a.reshape(3, 8), a =')\n",
    "print(a)\n",
    "a.shape = (2, 12)\n",
    "print('After a.shape = (2, 12), a =')\n",
    "print(a)\n",
    "a.resize(4, 6)\n",
    "print('After a.resize(4, 6), a =')\n",
    "print(a)"
   ]
  },
  {
   "cell_type": "markdown",
   "metadata": {
    "colab_type": "text",
    "id": "SaGwlMP5xCED"
   },
   "source": [
    "**Note:** I found a very [interesting post](https://stackoverflow.com/questions/22053050/difference-between-numpy-array-shape-r-1-and-r) on stackoverflow that gives some insight into how shape works in NumPy. If you really want to get technical on how NumPy works, check out [NumPy internals](https://docs.scipy.org/doc/numpy/reference/internals.html).  \n",
    "**Warning ⚠️ :** Go check out \"[Guide to NumPy](http://web.mit.edu/dvp/Public/numpybook.pdf)\" if you are so excited about NumPy. "
   ]
  },
  {
   "cell_type": "markdown",
   "metadata": {
    "colab_type": "text",
    "id": "DhKjY2-FxCED"
   },
   "source": [
    "### d. Broadcasting (different from the above element-wise broadcasting when carrying out operations)\n",
    "Broadcasting allows operations on arrays of different shapes. Numpy compares the shapes of two arrays by starting with the trailing dimensions and working its way backward to ensure two arrays compatible. Two dimensions are compatible if\n",
    "<ul>\n",
    "    <li> their sizes are equal, or\n",
    "    <li> one has a size of 1\n",
    "</ul>\n",
    "When one dimensional has a size of 1 in an array, the array is copied along that dimension.\n",
    "Examples of compatible arrays<br>\n",
    "<p>\n",
    "(1) a 2 x 3 x 3<br>\n",
    "      b 2 x 3 x 1<br>\n",
    "(2) a 2 x 3 x 3<br>\n",
    "    b             3\n",
    "</p>"
   ]
  },
  {
   "cell_type": "code",
   "execution_count": null,
   "metadata": {},
   "outputs": [],
   "source": [
    "import numpy as np\n",
    "a = np.array([1.0, 2.0, 3.0])\n",
    "b = np.array([2.0, 2.0, 2.0])\n",
    "a * b\n"
   ]
  },
  {
   "cell_type": "code",
   "execution_count": null,
   "metadata": {},
   "outputs": [],
   "source": [
    "a = np.array([1.0, 2.0, 3.0])\n",
    "b = 2.0\n",
    "a * b"
   ]
  },
  {
   "cell_type": "code",
   "execution_count": null,
   "metadata": {
    "colab": {
     "base_uri": "https://localhost:8080/",
     "height": 0
    },
    "colab_type": "code",
    "executionInfo": {
     "elapsed": 1061,
     "status": "ok",
     "timestamp": 1568910493911,
     "user": {
      "displayName": "Minh Tri Pham",
      "photoUrl": "",
      "userId": "16060185323521223989"
     },
     "user_tz": 300
    },
    "id": "che5_IksxCEE",
    "outputId": "358b84d5-be0a-499a-b700-ec863c1074f2"
   },
   "outputs": [],
   "source": [
    "import numpy as np\n",
    "a = np.arange(18).reshape(2, 3, 3)\n",
    "b = np.arange(6).reshape(2, 3, 1)\n",
    "print('a =')\n",
    "print(a)\n",
    "print('b =')\n",
    "print(b)\n",
    "print('a + b =')\n",
    "print(a + b)   # broadcasting allows '+' on a and b of different shapes.\n"
   ]
  },
  {
   "cell_type": "markdown",
   "metadata": {
    "colab_type": "text",
    "id": "v0b6TTfhxCEF"
   },
   "source": [
    "Below is a simple illustration of how b is broadcasted. Note that is just a conceptual illustration, not what actually happens under the hood."
   ]
  },
  {
   "cell_type": "code",
   "execution_count": 35,
   "metadata": {
    "colab": {
     "base_uri": "https://localhost:8080/",
     "height": 0
    },
    "colab_type": "code",
    "executionInfo": {
     "elapsed": 1260,
     "status": "ok",
     "timestamp": 1568910494117,
     "user": {
      "displayName": "Minh Tri Pham",
      "photoUrl": "",
      "userId": "16060185323521223989"
     },
     "user_tz": 300
    },
    "id": "Hv-XynC-KbJo",
    "outputId": "b8a29840-ff68-428f-d351-914372de1582"
   },
   "outputs": [
    {
     "name": "stdout",
     "output_type": "stream",
     "text": [
      "Before broadcasting:\n",
      " b =\n",
      " [[[0]\n",
      "  [1]\n",
      "  [2]]\n",
      "\n",
      " [[3]\n",
      "  [4]\n",
      "  [5]]]\n",
      "After broadcasting:\n",
      " b =\n",
      " [[[0 0 0]\n",
      "  [1 1 1]\n",
      "  [2 2 2]]\n",
      "\n",
      " [[3 3 3]\n",
      "  [4 4 4]\n",
      "  [5 5 5]]]\n"
     ]
    }
   ],
   "source": [
    "b = np.arange(6).reshape(2, 3, 1)\n",
    "print(\"Before broadcasting:\\n b =\\n\", b)\n",
    "\n",
    "b_prime = np.array([[\n",
    "  [0,0,0],\n",
    "  [1,1,1],\n",
    "  [2,2,2]]\n",
    ",[[3,3,3],\n",
    "  [4,4,4],\n",
    "  [5,5,5],\n",
    "]])\n",
    "print(\"After broadcasting:\\n b =\\n\", b_prime)"
   ]
  },
  {
   "cell_type": "markdown",
   "metadata": {
    "colab_type": "text",
    "id": "J6Msie5PxCEG"
   },
   "source": [
    "**Note:** This is a super brief introduction to broadcasting rule. For more details, please visit this [link](https://docs.scipy.org/doc/numpy/user/basics.broadcasting.html) "
   ]
  },
  {
   "cell_type": "markdown",
   "metadata": {
    "colab_type": "text",
    "id": "DRImK3ZexCEH"
   },
   "source": [
    " ## 1.3 Exercise   Minkowski Distance\n",
    " Let $X = [x_{1}, x_2, ..., x_n)$ and $Y = [y_1, y_2, ..., y_n]$. Then the Minkowski distnace of order p between X and Y is $D(X, Y) = (|x_1-y_1|^p + |x_2 - y_2|^p + ... + |x_n -y_n|^p)^{1/p}$\n",
    "\n",
    " When $p=1$, this is the Manhattan distance.\n",
    "\n",
    " When $p=2$, this is the Euclidian distance.\n",
    "\n",
    " Complete the following function to calculate the Minkowski distance."
   ]
  },
  {
   "cell_type": "code",
   "execution_count": null,
   "metadata": {
    "colab": {
     "base_uri": "https://localhost:8080/",
     "height": 0
    },
    "colab_type": "code",
    "executionInfo": {
     "elapsed": 1254,
     "status": "ok",
     "timestamp": 1568910494117,
     "user": {
      "displayName": "Minh Tri Pham",
      "photoUrl": "",
      "userId": "16060185323521223989"
     },
     "user_tz": 300
    },
    "id": "OwlOAXy-xCEH",
    "outputId": "983bf0c5-11cb-433e-8d22-cdf6ec513bf2"
   },
   "outputs": [],
   "source": [
    "def distance(x: np.ndarray, y: np.ndarray, p: int) -> float:\n",
    "    # complete the function\n",
    "    return 0\n",
    "    # end of the distance() function\n",
    "\n",
    "\n",
    "x = np.array([1, 2, 3], np.uint8)\n",
    "y = np.array([2, 3, 4], np.uint8)\n",
    "print(f'x = {x}, y = {y}\\n')\n",
    "\n",
    "p1 = 1.0\n",
    "print(f'p1 = {p1}')\n",
    "print(f'xy_p1_distance = {distance(x, y, p1)}')\n",
    "print(f'yx_p1_distance = {distance(x, y, p1)}\\n')\n",
    "\n",
    "p2 = 2.0\n",
    "print(f'p2 = {p2}')\n",
    "print(f'xy_p1_distance = {distance(x, y, p2)}')\n",
    "print(f'yx_p1_distance = {distance(x, y, p2)}')"
   ]
  },
  {
   "cell_type": "code",
   "execution_count": null,
   "metadata": {
    "colab": {
     "base_uri": "https://localhost:8080/",
     "height": 0
    },
    "colab_type": "code",
    "executionInfo": {
     "elapsed": 1250,
     "status": "ok",
     "timestamp": 1568910494118,
     "user": {
      "displayName": "Minh Tri Pham",
      "photoUrl": "",
      "userId": "16060185323521223989"
     },
     "user_tz": 300
    },
    "id": "RoX5zSfqxCEK",
    "outputId": "b118279c-d084-4e25-97b0-1e6ad620e910"
   },
   "outputs": [],
   "source": [
    "# this is a solution to the exercise above\n",
    "def distance(x, y, p):\n",
    "    distance = pow(\n",
    "        np.sum(np.power(np.abs(x.astype('int') - y.astype('int')), p)), 1/p)\n",
    "    return distance\n",
    "\n",
    "\n",
    "x = np.array([1, 2, 3], np.uint8)\n",
    "y = np.array([2, 3, 4], np.uint8)\n",
    "p = 1\n",
    "xy_p1_distance = distance(x, y, p)\n",
    "yx_p1_distance = distance(y, x, p)\n",
    "print('x = {}'.format(x))\n",
    "print('y = {}'.format(y))\n",
    "print('p = {}, xy_p1_distance = {}'.format(p, xy_p1_distance))\n",
    "print('p = {}, yx_p1_distance = {}\\n'.format(p, yx_p1_distance))\n",
    "\n",
    "p = 2\n",
    "xy_p1_distance = distance(x, y, p)\n",
    "yx_p1_distance = distance(y, x, p)\n",
    "print('x = {}'.format(x))\n",
    "print('y = {}'.format(y))\n",
    "print('p = {}, xy_p1_distance = {}'.format(p, xy_p1_distance))\n",
    "print('p = {}, yx_p1_distance = {}'.format(p, yx_p1_distance))"
   ]
  },
  {
   "cell_type": "markdown",
   "metadata": {
    "colab_type": "text",
    "id": "8j7tZ4sTxCEN"
   },
   "source": [
    " ## 1.4 Array Indexing, Slicing and Iterating"
   ]
  },
  {
   "cell_type": "markdown",
   "metadata": {
    "colab_type": "text",
    "id": "JXgPgX2DxCEN"
   },
   "source": [
    " #### 1.4.1 Indexing"
   ]
  },
  {
   "cell_type": "markdown",
   "metadata": {
    "colab_type": "text",
    "id": "DqhicwwHxCEO"
   },
   "source": [
    " a. One-dimensional array\n",
    " - One-dimensional array is very **similar** to python lists\n",
    " - Array elements can be refered to by their indices. Also, array index start at 0"
   ]
  },
  {
   "cell_type": "code",
   "execution_count": 32,
   "metadata": {
    "colab": {
     "base_uri": "https://localhost:8080/",
     "height": 0
    },
    "colab_type": "code",
    "executionInfo": {
     "elapsed": 1245,
     "status": "ok",
     "timestamp": 1568910494119,
     "user": {
      "displayName": "Minh Tri Pham",
      "photoUrl": "",
      "userId": "16060185323521223989"
     },
     "user_tz": 300
    },
    "id": "FSPkouTcxCEO",
    "outputId": "fc9fe13a-ca13-4ecf-ef3b-f3d8fbcd5510"
   },
   "outputs": [
    {
     "name": "stdout",
     "output_type": "stream",
     "text": [
      "a = [0 1 2 3 4 5]\n"
     ]
    }
   ],
   "source": [
    "a = np.array([0, 1, 2, 3, 4, 5])\n",
    "print(f'a = {a}')"
   ]
  },
  {
   "cell_type": "code",
   "execution_count": 33,
   "metadata": {
    "colab": {
     "base_uri": "https://localhost:8080/",
     "height": 0
    },
    "colab_type": "code",
    "executionInfo": {
     "elapsed": 1240,
     "status": "ok",
     "timestamp": 1568910494119,
     "user": {
      "displayName": "Minh Tri Pham",
      "photoUrl": "",
      "userId": "16060185323521223989"
     },
     "user_tz": 300
    },
    "id": "SeSlGwJpxCEQ",
    "outputId": "2ad403b5-fd81-4f16-e391-43fec52905b9"
   },
   "outputs": [
    {
     "name": "stdout",
     "output_type": "stream",
     "text": [
      "a[0] = 0\n",
      "a[1] = 1\n",
      "a[2] = 2\n",
      "a[3] = 3\n",
      "a[4] = 4\n",
      "a[5] = 5\n"
     ]
    }
   ],
   "source": [
    "for i in range(0, a.size):\n",
    "    print(f\"a[{i}] = {a[i]}\")"
   ]
  },
  {
   "cell_type": "markdown",
   "metadata": {
    "colab_type": "text",
    "id": "D-tawr8zxCER"
   },
   "source": [
    " b. Multi-dimensional array\n",
    " - Element can be indexed given indices for each axis"
   ]
  },
  {
   "cell_type": "markdown",
   "metadata": {
    "colab_type": "text",
    "id": "2Jf6iN-YxCET"
   },
   "source": [
    "### 1.4.2 Slicing\n",
    " Slicing operation is very similar to regular python list. We just need to consider each axis in turn.\n",
    " If you omit any values, NumPy will use default values.\n",
    " For example, consider below example, since we omit both starting and ending indices along the first axis, the default values will be used."
   ]
  },
  {
   "cell_type": "code",
   "execution_count": 41,
   "metadata": {},
   "outputs": [
    {
     "name": "stdout",
     "output_type": "stream",
     "text": [
      "[2 3 4 5]\n",
      "[6 7]\n",
      "[1 2 3 4 5]\n"
     ]
    }
   ],
   "source": [
    "s=np.array([1,2,3,4,5,6,7])\n",
    "print(s[1:5])\n",
    "print(s[5:])\n",
    "print(s[:5])"
   ]
  },
  {
   "cell_type": "code",
   "execution_count": 36,
   "metadata": {
    "colab": {
     "base_uri": "https://localhost:8080/",
     "height": 0
    },
    "colab_type": "code",
    "executionInfo": {
     "elapsed": 1336,
     "status": "ok",
     "timestamp": 1568910494226,
     "user": {
      "displayName": "Minh Tri Pham",
      "photoUrl": "",
      "userId": "16060185323521223989"
     },
     "user_tz": 300
    },
    "id": "nXwoocTDxCEU",
    "outputId": "39252364-0a9d-4bbc-a11e-029b68e77958"
   },
   "outputs": [
    {
     "name": "stdout",
     "output_type": "stream",
     "text": [
      "The next line is equivalent to b[0:4, 0]\n",
      "b[ : , 0] = [[0]\n",
      " [3]]\n"
     ]
    }
   ],
   "source": [
    "print(\"The next line is equivalent to b[0:4, 0]\")\n",
    "print(f\"b[ : , 0] = {b[ : , 0]}\")"
   ]
  },
  {
   "cell_type": "code",
   "execution_count": 46,
   "metadata": {},
   "outputs": [
    {
     "name": "stdout",
     "output_type": "stream",
     "text": [
      "[[2 3 4]\n",
      " [7 8 9]]\n"
     ]
    }
   ],
   "source": [
    "arr = np.array([[1, 2, 3, 4, 5], [6, 7, 8, 9, 10]])\n",
    "\n",
    "print(arr[0:2, 1:4])"
   ]
  },
  {
   "cell_type": "markdown",
   "metadata": {
    "colab_type": "text",
    "id": "_9RQyIPwxCEV"
   },
   "source": [
    " Missing axis indices will be considered as complete slices\n",
    " For example, the below example omit the second axis."
   ]
  },
  {
   "cell_type": "markdown",
   "metadata": {
    "colab_type": "text",
    "id": "Q9pxgAdbxCEX"
   },
   "source": [
    " You can find more examples below"
   ]
  },
  {
   "cell_type": "code",
   "execution_count": 47,
   "metadata": {
    "colab": {
     "base_uri": "https://localhost:8080/",
     "height": 0
    },
    "colab_type": "code",
    "executionInfo": {
     "elapsed": 1326,
     "status": "ok",
     "timestamp": 1568910494227,
     "user": {
      "displayName": "Minh Tri Pham",
      "photoUrl": "",
      "userId": "16060185323521223989"
     },
     "user_tz": 300
    },
    "id": "ywWDIKctxCEY",
    "outputId": "941e494b-a492-4ae3-d5fc-20bb1362ebca"
   },
   "outputs": [
    {
     "name": "stdout",
     "output_type": "stream",
     "text": [
      "a = [0 1 2 3 4 5 6 7 8 9]\n",
      "a[0] = 0\n",
      "a[:9: =] [0 1 2 3 4 5 6 7 8]\n",
      "a[:10: =] [0 1 2 3 4 5 6 7 8 9]\n",
      "a = [5 1 2 3 4 5 6 7 8 9]\n",
      "\n",
      "b =\n",
      " [[ 1  2  3  4  5]\n",
      " [ 6  7  8  9 10]]\n",
      "b[1, 3] = 9\n",
      "b[1, ::2] = [ 6  8 10]\n",
      "b[1, :4:2] = [6 8]\n",
      "b[1, 1:4:2] = [7 9]\n"
     ]
    }
   ],
   "source": [
    "a = np.arange(10)\n",
    "print('a =', a)\n",
    "print('a[0] =', a[0])\n",
    "print('a[:9: =]', a[:9:])\n",
    "#a[end] is not included in a[start:end:1]\n",
    "print('a[:10: =]', a[:10:])\n",
    "a[0] = 5\n",
    "print('a =', a)\n",
    "#print('a[10] =', a[10])\n",
    "b = np.array([[1, 2, 3, 4, 5],\n",
    "              [6, 7, 8, 9, 10]])\n",
    "print('\\nb =\\n', b)\n",
    "print('b[1, 3] =', b[1, 3])\n",
    "print('b[1, ::2] =', b[1, ::2])\n",
    "print('b[1, :4:2] =', b[1, :4:2])\n",
    "print('b[1, 1:4:2] =', b[1, 1:4:2])\n",
    "# slicing: start:end --exclude end but include start\n",
    "# extended slicing  start:end:step"
   ]
  },
  {
   "cell_type": "markdown",
   "metadata": {
    "colab_type": "text",
    "id": "FyEmOtyIxCEZ"
   },
   "source": [
    " ## 1.5 Array of Zeros, Ones\n",
    " a. Zeros Array"
   ]
  },
  {
   "cell_type": "code",
   "execution_count": 48,
   "metadata": {
    "colab": {
     "base_uri": "https://localhost:8080/",
     "height": 0
    },
    "colab_type": "code",
    "executionInfo": {
     "elapsed": 1321,
     "status": "ok",
     "timestamp": 1568910494227,
     "user": {
      "displayName": "Minh Tri Pham",
      "photoUrl": "",
      "userId": "16060185323521223989"
     },
     "user_tz": 300
    },
    "id": "pwDWGoLVxCEa",
    "outputId": "c20c3793-e5e1-4b8e-9f54-9bb76161cd9c"
   },
   "outputs": [
    {
     "data": {
      "text/plain": [
       "array([[0, 0, 0, 0, 0, 0, 0, 0],\n",
       "       [0, 0, 0, 0, 0, 0, 0, 0],\n",
       "       [0, 0, 0, 0, 0, 0, 0, 0],\n",
       "       [0, 0, 0, 0, 0, 0, 0, 0],\n",
       "       [0, 0, 0, 0, 0, 0, 0, 0],\n",
       "       [0, 0, 0, 0, 0, 0, 0, 0],\n",
       "       [0, 0, 0, 0, 0, 0, 0, 0],\n",
       "       [0, 0, 0, 0, 0, 0, 0, 0]])"
      ]
     },
     "execution_count": 48,
     "metadata": {},
     "output_type": "execute_result"
    }
   ],
   "source": [
    "zeros = np.zeros((8, 8), dtype=int)\n",
    "zeros"
   ]
  },
  {
   "cell_type": "markdown",
   "metadata": {
    "colab_type": "text",
    "id": "cdgPkK-bxCEc"
   },
   "source": [
    " b. Ones array"
   ]
  },
  {
   "cell_type": "code",
   "execution_count": 49,
   "metadata": {
    "colab": {
     "base_uri": "https://localhost:8080/",
     "height": 0
    },
    "colab_type": "code",
    "executionInfo": {
     "elapsed": 1316,
     "status": "ok",
     "timestamp": 1568910494228,
     "user": {
      "displayName": "Minh Tri Pham",
      "photoUrl": "",
      "userId": "16060185323521223989"
     },
     "user_tz": 300
    },
    "id": "odYeB4eSxCEc",
    "outputId": "73489697-85f1-4a0d-f3b8-19e364569abb"
   },
   "outputs": [
    {
     "data": {
      "text/plain": [
       "array([[1, 1, 1, 1, 1, 1, 1, 1],\n",
       "       [1, 1, 1, 1, 1, 1, 1, 1],\n",
       "       [1, 1, 1, 1, 1, 1, 1, 1],\n",
       "       [1, 1, 1, 1, 1, 1, 1, 1],\n",
       "       [1, 1, 1, 1, 1, 1, 1, 1],\n",
       "       [1, 1, 1, 1, 1, 1, 1, 1],\n",
       "       [1, 1, 1, 1, 1, 1, 1, 1],\n",
       "       [1, 1, 1, 1, 1, 1, 1, 1]])"
      ]
     },
     "execution_count": 49,
     "metadata": {},
     "output_type": "execute_result"
    }
   ],
   "source": [
    "ones = np.ones((8, 8), dtype=int)\n",
    "ones"
   ]
  },
  {
   "cell_type": "markdown",
   "metadata": {
    "colab_type": "text",
    "id": "s-7Q039-xCEe"
   },
   "source": [
    " c. Array with random elements\n",
    " You can generate an array filled with random floats in the half-open interval [0.0, 1.0)."
   ]
  },
  {
   "cell_type": "code",
   "execution_count": 50,
   "metadata": {
    "colab": {
     "base_uri": "https://localhost:8080/",
     "height": 0
    },
    "colab_type": "code",
    "executionInfo": {
     "elapsed": 1311,
     "status": "ok",
     "timestamp": 1568910494228,
     "user": {
      "displayName": "Minh Tri Pham",
      "photoUrl": "",
      "userId": "16060185323521223989"
     },
     "user_tz": 300
    },
    "id": "xrOe5HmlxCEe",
    "outputId": "c172d91a-19f6-43ee-e0c7-126626e70eea"
   },
   "outputs": [
    {
     "data": {
      "text/plain": [
       "array([[0.0978682 , 0.59826021],\n",
       "       [0.60515354, 0.85574641]])"
      ]
     },
     "execution_count": 50,
     "metadata": {},
     "output_type": "execute_result"
    }
   ],
   "source": [
    "random_nums = np.random.random((2, 2))\n",
    "random_nums"
   ]
  },
  {
   "cell_type": "markdown",
   "metadata": {
    "colab_type": "text",
    "id": "RFp8DcqlxCEg"
   },
   "source": [
    " Sometimes it is useful to have a sequence of repeatable/predicatble random numbers. The function random.seed(x) tells random.random() function to generate a sequence of random numbers with seed of x. That is, whenever random.seed(x) is called, the following random numbers generated from random.random() are the same."
   ]
  },
  {
   "cell_type": "code",
   "execution_count": 51,
   "metadata": {
    "colab": {
     "base_uri": "https://localhost:8080/",
     "height": 0
    },
    "colab_type": "code",
    "executionInfo": {
     "elapsed": 1306,
     "status": "ok",
     "timestamp": 1568910494229,
     "user": {
      "displayName": "Minh Tri Pham",
      "photoUrl": "",
      "userId": "16060185323521223989"
     },
     "user_tz": 300
    },
    "id": "VpcV6848xCEg",
    "outputId": "8014c529-db24-4a17-9615-5b78c1a172d0"
   },
   "outputs": [
    {
     "name": "stdout",
     "output_type": "stream",
     "text": [
      "Now the random seed is set to 5. Whenver the seed is set to 5, the sequence of random numbers from random.random() should be the same\n",
      "random array a =\n",
      " [[0.22 0.87 0.21]\n",
      " [0.92 0.49 0.61]]\n",
      "random array b =\n",
      " [[0.77 0.52 0.3 ]\n",
      " [0.19 0.08 0.74]]\n",
      "Now the random seed is reset to 5. The random numbers generated from random.random() should be repeated as above/\n",
      "random array a =\n",
      " [[0.22 0.87 0.21]\n",
      " [0.92 0.49 0.61]]\n",
      "random array b =\n",
      " [[0.77 0.52 0.3 ]\n",
      " [0.19 0.08 0.74]]\n",
      "Now the random seed is reset to 4. The random numbers generated from random.random() should not be the same as above/\n",
      "random array a =\n",
      " [[0.97 0.55 0.97]\n",
      " [0.71 0.7  0.22]]\n",
      "random array b =\n",
      " [[0.98 0.01 0.25]\n",
      " [0.43 0.78 0.2 ]]\n"
     ]
    }
   ],
   "source": [
    "np.random.seed(5)\n",
    "np.set_printoptions(precision=2)\n",
    "print('Now the random seed is set to 5. Whenver the seed is set to 5, the sequence of random numbers from random.random() should be the same')\n",
    "a = np.random.random((2, 3))\n",
    "print('random array a =\\n', a)\n",
    "b = np.random.random((2, 3))\n",
    "print('random array b =\\n', b)\n",
    "np.random.seed(5)\n",
    "print(\"Now the random seed is reset to 5. The random numbers generated from random.random() should be repeated as above/\")\n",
    "a = np.random.random((2, 3))\n",
    "print('random array a =\\n', a)\n",
    "b = np.random.random((2, 3))\n",
    "print('random array b =\\n', b)\n",
    "np.random.seed(4)\n",
    "print(\"Now the random seed is reset to 4. The random numbers generated from random.random() should not be the same as above/\")\n",
    "a = np.random.random((2, 3))\n",
    "print('random array a =\\n', a)\n",
    "b = np.random.random((2, 3))\n",
    "print('random array b =\\n', b)"
   ]
  },
  {
   "cell_type": "markdown",
   "metadata": {
    "colab_type": "text",
    "id": "PgPA0RoVxCEi"
   },
   "source": [
    " Example to create a 8x8 matrix and fill it with a checkerboard pattern\n",
    " from http://www.labri.fr/perso/nrougier/teaching/numpy.100/"
   ]
  },
  {
   "cell_type": "code",
   "execution_count": 12,
   "metadata": {
    "colab": {
     "base_uri": "https://localhost:8080/",
     "height": 0
    },
    "colab_type": "code",
    "executionInfo": {
     "elapsed": 1300,
     "status": "ok",
     "timestamp": 1568910494229,
     "user": {
      "displayName": "Minh Tri Pham",
      "photoUrl": "",
      "userId": "16060185323521223989"
     },
     "user_tz": 300
    },
    "id": "Frut9qD9xCEi",
    "outputId": "b9253089-ad79-4bc3-8d2a-c0a3cfeed323"
   },
   "outputs": [
    {
     "name": "stdout",
     "output_type": "stream",
     "text": [
      "z =\n",
      "[[0 0 0 0 0 0 0 0]\n",
      " [0 0 0 0 0 0 0 0]\n",
      " [0 0 0 0 0 0 0 0]\n",
      " [0 0 0 0 0 0 0 0]\n",
      " [0 0 0 0 0 0 0 0]\n",
      " [0 0 0 0 0 0 0 0]\n",
      " [0 0 0 0 0 0 0 0]\n",
      " [0 0 0 0 0 0 0 0]]\n",
      "\n",
      "After first slicing:\n",
      "[[0 0 0 0 0 0 0 0]\n",
      " [1 1 1 1 1 1 1 1]\n",
      " [0 0 0 0 0 0 0 0]\n",
      " [1 1 1 1 1 1 1 1]\n",
      " [0 0 0 0 0 0 0 0]\n",
      " [1 1 1 1 1 1 1 1]\n",
      " [0 0 0 0 0 0 0 0]\n",
      " [1 1 1 1 1 1 1 1]]\n",
      "\n",
      "After second slicing:\n",
      "[[1 0 1 0 1 0 1 0]\n",
      " [1 1 1 1 1 1 1 1]\n",
      " [1 0 1 0 1 0 1 0]\n",
      " [1 1 1 1 1 1 1 1]\n",
      " [1 0 1 0 1 0 1 0]\n",
      " [1 1 1 1 1 1 1 1]\n",
      " [1 0 1 0 1 0 1 0]\n",
      " [1 1 1 1 1 1 1 1]]\n",
      "\n",
      "After third slicing:\n",
      "[[1 0 1 0 1 0 1 0]\n",
      " [1 1 1 1 1 1 1 1]\n",
      " [1 0 1 0 1 0 1 0]\n",
      " [1 1 1 1 1 1 1 1]\n",
      " [1 0 1 0 1 0 1 0]\n",
      " [1 1 1 1 1 1 1 1]\n",
      " [1 0 1 0 1 0 1 0]\n",
      " [1 1 1 1 1 1 1 1]]\n",
      "\n",
      "After the last slicing:\n",
      "[[1 0 1 0 1 0 1 0]\n",
      " [0 1 0 1 0 1 0 1]\n",
      " [1 0 1 0 1 0 1 0]\n",
      " [0 1 0 1 0 1 0 1]\n",
      " [1 0 1 0 1 0 1 0]\n",
      " [0 1 0 1 0 1 0 1]\n",
      " [1 0 1 0 1 0 1 0]\n",
      " [0 1 0 1 0 1 0 1]]\n"
     ]
    }
   ],
   "source": [
    "Z = np.zeros((8, 8), dtype=int)\n",
    "print('z =')\n",
    "print(Z)\n",
    "Z[1::2, :] = 1\n",
    "print('\\nAfter first slicing:')\n",
    "print(Z)\n",
    "\n",
    "Z[:, ::2] = 1\n",
    "print('\\nAfter second slicing:')\n",
    "print(Z)\n",
    "\n",
    "Z[1::2, ::2] = 1\n",
    "print('\\nAfter third slicing:')\n",
    "print(Z)\n",
    "\n",
    "Z[1::2, 0::2] = 0\n",
    "print(\"\\nAfter the last slicing:\")\n",
    "print(Z)"
   ]
  },
  {
   "cell_type": "markdown",
   "metadata": {
    "colab_type": "text",
    "id": "C2ukIGMExCEl"
   },
   "source": [
    " The result in a more attractive form"
   ]
  },
  {
   "cell_type": "code",
   "execution_count": 13,
   "metadata": {
    "colab": {
     "base_uri": "https://localhost:8080/",
     "height": 0
    },
    "colab_type": "code",
    "executionInfo": {
     "elapsed": 1790,
     "status": "ok",
     "timestamp": 1568910494725,
     "user": {
      "displayName": "Minh Tri Pham",
      "photoUrl": "",
      "userId": "16060185323521223989"
     },
     "user_tz": 300
    },
    "id": "9nDid-VSxCEl",
    "outputId": "44788a6d-b61e-401a-cc87-5d43fe280cfa"
   },
   "outputs": [
    {
     "data": {
      "text/plain": [
       "<matplotlib.image.AxesImage at 0x2b0024c1a828>"
      ]
     },
     "execution_count": 13,
     "metadata": {},
     "output_type": "execute_result"
    },
    {
     "data": {
      "image/png": "[encoded data removed]",
      "text/plain": [
       "<Figure size 432x288 with 1 Axes>"
      ]
     },
     "metadata": {
      "needs_background": "light"
     },
     "output_type": "display_data"
    }
   ],
   "source": [
    "%matplotlib inline\n",
    "import matplotlib.pyplot as plt\n",
    "plt.imshow(Z.astype(int))"
   ]
  },
  {
   "cell_type": "markdown",
   "metadata": {
    "colab_type": "text",
    "id": "P6aR5cmwxCEn"
   },
   "source": [
    "## 1.6 Exercise: Create a 12x12 array with 1 on the border and 0 inside"
   ]
  },
  {
   "cell_type": "code",
   "execution_count": 15,
   "metadata": {
    "colab": {
     "base_uri": "https://localhost:8080/",
     "height": 711
    },
    "colab_type": "code",
    "executionInfo": {
     "elapsed": 1872,
     "status": "ok",
     "timestamp": 1568910494812,
     "user": {
      "displayName": "Minh Tri Pham",
      "photoUrl": "",
      "userId": "16060185323521223989"
     },
     "user_tz": 300
    },
    "id": "N-XI-sLuxCEo",
    "outputId": "3b727c44-5478-446f-a903-7cb0e1681f21"
   },
   "outputs": [
    {
     "name": "stdout",
     "output_type": "stream",
     "text": [
      "[[1. 1. 1. 1. 1. 1. 1. 1. 1. 1. 1. 1.]\n",
      " [1. 1. 1. 1. 1. 1. 1. 1. 1. 1. 1. 1.]\n",
      " [1. 1. 1. 1. 1. 1. 1. 1. 1. 1. 1. 1.]\n",
      " [1. 1. 1. 1. 1. 1. 1. 1. 1. 1. 1. 1.]\n",
      " [1. 1. 1. 1. 1. 1. 1. 1. 1. 1. 1. 1.]\n",
      " [1. 1. 1. 1. 1. 1. 1. 1. 1. 1. 1. 1.]\n",
      " [1. 1. 1. 1. 1. 1. 1. 1. 1. 1. 1. 1.]\n",
      " [1. 1. 1. 1. 1. 1. 1. 1. 1. 1. 1. 1.]\n",
      " [1. 1. 1. 1. 1. 1. 1. 1. 1. 1. 1. 1.]\n",
      " [1. 1. 1. 1. 1. 1. 1. 1. 1. 1. 1. 1.]\n",
      " [1. 1. 1. 1. 1. 1. 1. 1. 1. 1. 1. 1.]\n",
      " [1. 1. 1. 1. 1. 1. 1. 1. 1. 1. 1. 1.]]\n",
      "\n",
      "[[1. 1. 1. 1. 1. 1. 1. 1. 1. 1. 1. 1.]\n",
      " [1. 0. 0. 0. 0. 0. 0. 0. 0. 0. 0. 1.]\n",
      " [1. 0. 0. 0. 0. 0. 0. 0. 0. 0. 0. 1.]\n",
      " [1. 0. 0. 0. 0. 0. 0. 0. 0. 0. 0. 1.]\n",
      " [1. 0. 0. 0. 0. 0. 0. 0. 0. 0. 0. 1.]\n",
      " [1. 0. 0. 0. 0. 0. 0. 0. 0. 0. 0. 1.]\n",
      " [1. 0. 0. 0. 0. 0. 0. 0. 0. 0. 0. 1.]\n",
      " [1. 0. 0. 0. 0. 0. 0. 0. 0. 0. 0. 1.]\n",
      " [1. 0. 0. 0. 0. 0. 0. 0. 0. 0. 0. 1.]\n",
      " [1. 0. 0. 0. 0. 0. 0. 0. 0. 0. 0. 1.]\n",
      " [1. 0. 0. 0. 0. 0. 0. 0. 0. 0. 0. 1.]\n",
      " [1. 1. 1. 1. 1. 1. 1. 1. 1. 1. 1. 1.]]\n"
     ]
    },
    {
     "data": {
      "text/plain": [
       "<matplotlib.image.AxesImage at 0x2b0024cdb5f8>"
      ]
     },
     "execution_count": 15,
     "metadata": {},
     "output_type": "execute_result"
    },
    {
     "data": {
      "image/png": "[encoded data removed]",
      "text/plain": [
       "<Figure size 432x288 with 1 Axes>"
      ]
     },
     "metadata": {
      "needs_background": "light"
     },
     "output_type": "display_data"
    }
   ],
   "source": [
    "# This is a solution to the exercise above\n",
    "%matplotlib inline\n",
    "# create a 12x12 array of ones\n",
    "a = np.ones((12, 12))\n",
    "print(a)\n",
    "# set the elements in the middle to 0\n",
    "a[1:a.shape[0] - 1, 1:a.shape[1]-1] = 0\n",
    "print()\n",
    "print(a)\n",
    "# display the array\n",
    "# Show the above matrix as a checker board\n",
    "plt.imshow(a.astype(int))"
   ]
  },
  {
   "cell_type": "markdown",
   "metadata": {
    "colab_type": "text",
    "id": "ROaSIuAJxCEp"
   },
   "source": [
    " ## 1.7 Array of Numbers in a Sequence\n",
    " <ul>\n",
    "     <li>arange(start, end, step): return evenly spaced values within a given interval [start, end). step size determine the increment between an element and its predecessor.\n",
    "     <li>linspace(start, end, num_elements): creates an array of start, start + step, start + 2 * step, ... where step = (end - start) / num_elements. Note that the end number maybe included.\n",
    "     <li> Due to finite floating point precision, it is difficult to predict the number of elements for arange. Avoid to use arange when step is not an integer.\n",
    " </ul>"
   ]
  },
  {
   "cell_type": "code",
   "execution_count": 16,
   "metadata": {
    "colab": {
     "base_uri": "https://localhost:8080/",
     "height": 0
    },
    "colab_type": "code",
    "executionInfo": {
     "elapsed": 1865,
     "status": "ok",
     "timestamp": 1568910494812,
     "user": {
      "displayName": "Minh Tri Pham",
      "photoUrl": "",
      "userId": "16060185323521223989"
     },
     "user_tz": 300
    },
    "id": "i9YCUaqZxCEq",
    "outputId": "41a3614a-809e-4ad3-8854-6396efa426b6"
   },
   "outputs": [
    {
     "name": "stdout",
     "output_type": "stream",
     "text": [
      "a =\n",
      "[1 3 5 7 9]\n",
      "a.size = 5\n",
      "b =\n",
      "[1.  1.5 2.  2.5 3.  3.5 4.  4.5 5. ]\n",
      "b.size = 9\n"
     ]
    }
   ],
   "source": [
    "a = np.arange(1, 10, 2)\n",
    "print('a =')\n",
    "print(a)\n",
    "print('a.size = {}'.format(a.size))\n",
    "\n",
    "b = np.linspace(1.0, 5.0, 9)\n",
    "print('b =')\n",
    "print(b)\n",
    "print('b.size = {}'.format(b.size))"
   ]
  },
  {
   "cell_type": "markdown",
   "metadata": {
    "colab_type": "text",
    "id": "zEJJA0wExCEr"
   },
   "source": [
    " ## 1.8 Axis Paramters in Functions\n",
    " Functions may take axis as a parameter. Now let's understand how the axis parameter works for np.sum()."
   ]
  },
  {
   "cell_type": "code",
   "execution_count": 17,
   "metadata": {
    "colab": {
     "base_uri": "https://localhost:8080/",
     "height": 0
    },
    "colab_type": "code",
    "executionInfo": {
     "elapsed": 1860,
     "status": "ok",
     "timestamp": 1568910494813,
     "user": {
      "displayName": "Minh Tri Pham",
      "photoUrl": "",
      "userId": "16060185323521223989"
     },
     "user_tz": 300
    },
    "id": "ZwAiHXx8xCEs",
    "outputId": "2e15f248-a103-4fc0-dd47-737c3fe0fd42"
   },
   "outputs": [
    {
     "name": "stdout",
     "output_type": "stream",
     "text": [
      "a = \n",
      "[[1 2 3]\n",
      " [4 5 6]]\n",
      "\n",
      "Sum_by_axis_zero = [5 7 9]\n",
      "\n",
      "Sum_by_axis_one = [ 6 15]\n",
      "\n",
      "Sum of all elements = 21\n",
      "\n",
      "b = \n",
      "[[[ 1  2  3  4]\n",
      "  [ 4  5  6  7]\n",
      "  [ 1  2  3  4]]\n",
      "\n",
      " [[ 6  7  8  9]\n",
      "  [ 9 10 11 12]\n",
      "  [ 6  7  8  9]]]\n",
      "Shape of array b = (2, 3, 4)\n",
      "\n",
      "Sum by axis 0 of array b = \n",
      "[[ 7  9 11 13]\n",
      " [13 15 17 19]\n",
      " [ 7  9 11 13]]\n",
      "\n",
      "Shape of sum_by_axis_zero = (3, 4)\n"
     ]
    }
   ],
   "source": [
    "a = np.array([[1, 2, 3], [4, 5, 6]])\n",
    "print(\"a = \")\n",
    "print(a)\n",
    "\n",
    "# sum the array elements by column\n",
    "# 'axis = 0'\n",
    "sum_by_axis_zero = np.sum(a, axis=0)\n",
    "print(f'\\nSum_by_axis_zero = {sum_by_axis_zero}\\n')\n",
    "\n",
    "# sum the array elements by row\n",
    "sum_by_axis_one = np.sum(a, axis=1)\n",
    "print(f'Sum_by_axis_one = {sum_by_axis_one}\\n')\n",
    "\n",
    "# sum all the array elements\n",
    "print(f'Sum of all elements = {np.sum(a)}\\n')\n",
    "\n",
    "b = np.array([\n",
    "    [[1, 2, 3, 4],\n",
    "     [4, 5, 6, 7],\n",
    "     [1, 2, 3, 4]],\n",
    "    [[6, 7, 8, 9],\n",
    "    [9, 10, 11, 12],\n",
    "    [6, 7, 8, 9]]\n",
    "])\n",
    "print(\"b = \")\n",
    "print(b)\n",
    "\n",
    "print(f'Shape of array b = {b.shape}\\n')\n",
    "# Now the code below shows that 'axis = 0' means to collaps along axis 0\n",
    "sum_by_axis_zero = np.sum(b, axis=0)\n",
    "print(f\"Sum by axis 0 of array b = \")\n",
    "print(sum_by_axis_zero)\n",
    "\n",
    "print(f\"\\nShape of sum_by_axis_zero = {sum_by_axis_zero.shape}\")"
   ]
  },
  {
   "cell_type": "code",
   "execution_count": 18,
   "metadata": {
    "colab": {
     "base_uri": "https://localhost:8080/",
     "height": 0
    },
    "colab_type": "code",
    "executionInfo": {
     "elapsed": 1974,
     "status": "ok",
     "timestamp": 1568910494933,
     "user": {
      "displayName": "Minh Tri Pham",
      "photoUrl": "",
      "userId": "16060185323521223989"
     },
     "user_tz": 300
    },
    "id": "LiBOvhM2xCEu",
    "outputId": "493f5906-494a-46f4-b132-da0ba493cc52"
   },
   "outputs": [
    {
     "name": "stdout",
     "output_type": "stream",
     "text": [
      "(3, 3)\n",
      "x = \n",
      "[[1 2 3]\n",
      " [4 5 6]\n",
      " [7 8 9]]\n",
      "\n",
      "y = [1. 1. 1.]\n",
      "\n",
      "Apply distance function on dimension 1 of x: z = [ 3. 12. 21.]\n",
      "\n",
      "Apply distance function on dimension 0 of x: z = [ 9. 12. 15.]\n",
      "\n",
      "Now let's compare some slicings\n",
      "\n",
      "x[:,1] = [2 5 8]\n",
      "\n",
      "x[:2] = \n",
      "[[1 2 3]\n",
      " [4 5 6]]\n",
      "\n",
      "x[:2,:] = \n",
      "[[1 2 3]\n",
      " [4 5 6]]\n",
      "\n",
      "x[:,:1] = \n",
      "[[1]\n",
      " [4]\n",
      " [7]]\n",
      "\n",
      "x[:,:2] = \n",
      "[[1 2]\n",
      " [4 5]\n",
      " [7 8]]\n"
     ]
    }
   ],
   "source": [
    "# Now let's see how the axis parameter works for np.apply_along_axis():\n",
    "# the function takes the slicing along the specified axis parameter\n",
    "\n",
    "def distance(x, y, p):\n",
    "    distance = pow(\n",
    "        np.sum(np.power(np.abs(x.astype('int') - y.astype('int')), p)), 1/p)\n",
    "    return distance\n",
    "\n",
    "\n",
    "x = np.array([[1, 2, 3], [4, 5, 6], [7, 8, 9]])\n",
    "print(x.shape)\n",
    "print('x = ')\n",
    "print(x)\n",
    "\n",
    "y = np.ones(3)\n",
    "print(f'\\ny = {y}')\n",
    "\n",
    "p = 1\n",
    "z = np.apply_along_axis(distance, 1, x, y=y, p=p)\n",
    "print(f'\\nApply distance function on dimension 1 of x: z = {z}')\n",
    "\n",
    "z = np.apply_along_axis(distance, 0, x, y=y, p=p)\n",
    "print(f'\\nApply distance function on dimension 0 of x: z = {z}')\n",
    "\n",
    "print(\"\\nNow let's compare some slicings\")\n",
    "print(f'\\nx[:,1] = {x[:, 1]}')\n",
    "\n",
    "print(f'\\nx[:2] = \\n{x[:2]}')\n",
    "\n",
    "print(f'\\nx[:2,:] = \\n{x[:2, :]}')\n",
    "\n",
    "print(f'\\nx[:,:1] = \\n{x[:, :1]}')\n",
    "\n",
    "print(f'\\nx[:,:2] = \\n{x[:, :2]}')"
   ]
  },
  {
   "cell_type": "markdown",
   "metadata": {
    "colab_type": "text",
    "id": "YtbWWsYExCEz"
   },
   "source": [
    " ## 1.9 Exericse: Use apply_along_axis to sort a two dimensional array"
   ]
  },
  {
   "cell_type": "code",
   "execution_count": null,
   "metadata": {
    "colab": {},
    "colab_type": "code",
    "id": "aSZOTEOwxCE0"
   },
   "outputs": [],
   "source": [
    "a = np.array([\n",
    "        [4, 9, 1], \n",
    "        [5, 8, 2], \n",
    "        [3, 7, 6]\n",
    "    ])"
   ]
  },
  {
   "cell_type": "markdown",
   "metadata": {
    "colab_type": "text",
    "id": "zp39oHr4xCE1"
   },
   "source": [
    "Exercises:\n",
    "- Print the array such that elements are sorted in each row 'sorted' function can be the first parameter of apply_along_axis.\n",
    "\n",
    "- Print the array such that elements are sorted in each column 'sorted' function can be the first parameter of apply_along_axis"
   ]
  },
  {
   "cell_type": "code",
   "execution_count": 19,
   "metadata": {
    "colab": {
     "base_uri": "https://localhost:8080/",
     "height": 0
    },
    "colab_type": "code",
    "executionInfo": {
     "elapsed": 1967,
     "status": "ok",
     "timestamp": 1568910494935,
     "user": {
      "displayName": "Minh Tri Pham",
      "photoUrl": "",
      "userId": "16060185323521223989"
     },
     "user_tz": 300
    },
    "id": "F2upvDf5xCE1",
    "outputId": "e535843e-535d-45e0-ce33-7c07eb28d497"
   },
   "outputs": [
    {
     "name": "stdout",
     "output_type": "stream",
     "text": [
      "a = \n",
      " [[4 9 1]\n",
      " [5 8 2]\n",
      " [3 7 6]]\n",
      "\n",
      "Sorted array in each row/by axis 1:\n",
      "[[1 4 9]\n",
      " [2 5 8]\n",
      " [3 6 7]]\n",
      "\n",
      "Sorted array in each row/by axis 0:\n",
      "[[3 7 1]\n",
      " [4 8 2]\n",
      " [5 9 6]]\n"
     ]
    }
   ],
   "source": [
    "# this is a solution to the exercise above\n",
    "a = np.array([\n",
    "    [4, 9, 1], \n",
    "    [5, 8, 2], \n",
    "    [3, 7, 6]])\n",
    "\n",
    "print(\"a = \\n\",a)\n",
    "# print the array such that elements are sorted in each row\n",
    "print(\"\\nSorted array in each row/by axis 1:\")\n",
    "print(np.apply_along_axis(sorted, 1, a))\n",
    "\n",
    "# print the array such that elements are sorted in each column\n",
    "print(\"\\nSorted array in each row/by axis 0:\")\n",
    "print(np.apply_along_axis(sorted, 0, a))"
   ]
  },
  {
   "cell_type": "markdown",
   "metadata": {
    "colab_type": "text",
    "id": "5J65h-g9xCE3"
   },
   "source": [
    " ## 1.11 Array Indexes: Boolean Indexes\n",
    " Booleans can be used in an array of indexes to select elements from an array x.\n",
    " <ul>\n",
    "     <li> The array of indexes b should have the same shape of array x.\n",
    "     <li> An element of array a is selected by x[b] if its corresponding boolean value in b is True.\n",
    " </ul>"
   ]
  },
  {
   "cell_type": "code",
   "execution_count": null,
   "metadata": {
    "colab": {
     "base_uri": "https://localhost:8080/",
     "height": 0
    },
    "colab_type": "code",
    "executionInfo": {
     "elapsed": 1961,
     "status": "ok",
     "timestamp": 1568910494935,
     "user": {
      "displayName": "Minh Tri Pham",
      "photoUrl": "",
      "userId": "16060185323521223989"
     },
     "user_tz": 300
    },
    "id": "wRcfFmi4xCE3",
    "outputId": "ae054776-5fd0-494c-faf2-677509fbec08"
   },
   "outputs": [],
   "source": [
    "a = np.random.random(12).reshape(3, 4)\n",
    "print('a =')\n",
    "print(a)\n",
    "b = a > 0.5\n",
    "print('\\nb =')\n",
    "print(b)\n",
    "print(f'\\na[b] = {a[b]}')\n",
    "\n",
    "print(f'a[b].shape = {a[b].shape}')\n",
    "print('a[b].ndim = ', a[b].ndim)\n",
    "\n",
    "a[b] = 1\n",
    "print(f'\\nAfter a[b] = 1')\n",
    "print('a =')\n",
    "print(a)"
   ]
  },
  {
   "cell_type": "markdown",
   "metadata": {
    "colab_type": "text",
    "id": "JswCYDb_xCE4"
   },
   "source": [
    "## 1.12 Monte Carlo Estimation of Pi\n",
    "For more information about Monte Carlo method, check out [this link](https://academo.org/demos/estimating-pi-monte-carlo/). The following example uses NumPy to estimate the value of pi."
   ]
  },
  {
   "cell_type": "code",
   "execution_count": null,
   "metadata": {
    "colab": {
     "base_uri": "https://localhost:8080/",
     "height": 0
    },
    "colab_type": "code",
    "executionInfo": {
     "elapsed": 2352,
     "status": "ok",
     "timestamp": 1568910495332,
     "user": {
      "displayName": "Minh Tri Pham",
      "photoUrl": "",
      "userId": "16060185323521223989"
     },
     "user_tz": 300
    },
    "id": "tOg_ARoMxCE5",
    "outputId": "edc4e5a2-aa51-48f6-d451-0f798841e2ab"
   },
   "outputs": [],
   "source": [
    "NUM_POINTS = 2000000\n",
    "point = np.random.random((NUM_POINTS, 2))\n",
    "point_index = np.sqrt(point[:, 0]**2 + point[:, 1]**2) < 1\n",
    "print(f\"Indices of points within the circle = {point_index}\")\n",
    "print(f\"Value of pi = {4 * len(point[point_index == True])/NUM_POINTS}\")"
   ]
  },
  {
   "cell_type": "markdown",
   "metadata": {
    "colab_type": "text",
    "id": "SJPWRlUqxCE6"
   },
   "source": [
    " ## 1.13 Exercise: Negate Array Elements"
   ]
  },
  {
   "cell_type": "code",
   "execution_count": null,
   "metadata": {
    "colab": {
     "base_uri": "https://localhost:8080/",
     "height": 0
    },
    "colab_type": "code",
    "executionInfo": {
     "elapsed": 2346,
     "status": "ok",
     "timestamp": 1568910495333,
     "user": {
      "displayName": "Minh Tri Pham",
      "photoUrl": "",
      "userId": "16060185323521223989"
     },
     "user_tz": 300
    },
    "id": "WzMp0CZnxCE6",
    "outputId": "cf997711-0bae-47d1-b355-5c4870a97a4d"
   },
   "outputs": [],
   "source": [
    "a = np.random.randint(10, size=(5, 5))\n",
    "print('Before negation, a =')\n",
    "print(a)"
   ]
  },
  {
   "cell_type": "markdown",
   "metadata": {
    "colab_type": "text",
    "id": "i4RHzw9SxCE8"
   },
   "source": [
    " Write a program to negate elements of array a which are between 4 and 6 (including 4 and 6)"
   ]
  },
  {
   "cell_type": "code",
   "execution_count": null,
   "metadata": {
    "colab": {
     "base_uri": "https://localhost:8080/",
     "height": 0
    },
    "colab_type": "code",
    "executionInfo": {
     "elapsed": 2340,
     "status": "ok",
     "timestamp": 1568910495333,
     "user": {
      "displayName": "Minh Tri Pham",
      "photoUrl": "",
      "userId": "16060185323521223989"
     },
     "user_tz": 300
    },
    "id": "NHYQWiNGxCE9",
    "outputId": "a835571c-abe3-41c7-85ef-c09cb24c9f04"
   },
   "outputs": [],
   "source": [
    "# This is a solution to the exercise above\n",
    "a = np.random.randint(10, size=(5, 5))\n",
    "print('Before negation, a =')\n",
    "print(a)\n",
    "\n",
    "# write a program to negatve elements of array a which are between 4 and 6\n",
    "b = a[(3 < a) * (a < 7)]\n",
    "print('\\nBoolean index array b =', b)\n",
    "a[(3 < a) & (a < 7)] *= -1\n",
    "print('After negation, a =')\n",
    "print(a)"
   ]
  },
  {
   "cell_type": "markdown",
   "metadata": {
    "colab_type": "text",
    "id": "MnsHEZXixCE-"
   },
   "source": [
    " ## 1.14 Array of indexes for One Dimensional Array\n",
    " For a one dimensional array a, an array of indexes from array a can be used to select elements from array to form a new array such that\n",
    " <ul>\n",
    "     <li> Each element in the array of indexes is an index of array a.\n",
    "     <li> The new array b has the same shape as the array of indexes.\n",
    " </ul>"
   ]
  },
  {
   "cell_type": "code",
   "execution_count": null,
   "metadata": {
    "colab": {
     "base_uri": "https://localhost:8080/",
     "height": 0
    },
    "colab_type": "code",
    "executionInfo": {
     "elapsed": 2336,
     "status": "ok",
     "timestamp": 1568910495334,
     "user": {
      "displayName": "Minh Tri Pham",
      "photoUrl": "",
      "userId": "16060185323521223989"
     },
     "user_tz": 300
    },
    "id": "gW_wwUyRxCE_",
    "outputId": "65c21402-2cad-47aa-f414-b24188338046"
   },
   "outputs": [],
   "source": [
    "a = np.arange(12) + 10\n",
    "print('a =', a)\n",
    "array_indexes = np.array([0, 0, 3, 4, 3])\n",
    "print('a[array_indexes] =', a[array_indexes])\n",
    "array_indexes = np.array([[0, 0, 2], [1, 3, 4]])\n",
    "print('array_indexes = ')\n",
    "print(array_indexes)\n",
    "print('To show that the new array has the same shape as the array of indexes')\n",
    "print('a[array_indexes] =')\n",
    "print(a[array_indexes])"
   ]
  },
  {
   "cell_type": "markdown",
   "metadata": {
    "colab_type": "text",
    "id": "enRWCUnlxCFA"
   },
   "source": [
    "**Note:** We can index into multi-dimensional arrays with index arrays too. However, this situation does not come very often. If you are interested, please check [this link](https://docs.scipy.org/doc/numpy-1.13.0/user/basics.indexing.html)"
   ]
  },
  {
   "cell_type": "markdown",
   "metadata": {
    "colab_type": "text",
    "id": "G8hOKvvExCFA"
   },
   "source": [
    " ## 1.15 Array Assignment: No Copy\n",
    " Recall that assignments such as 'a = b' makes a reference to the same object as b refers to. Think of this as giving **b** array an alias called **a**"
   ]
  },
  {
   "cell_type": "code",
   "execution_count": null,
   "metadata": {
    "colab": {
     "base_uri": "https://localhost:8080/",
     "height": 0
    },
    "colab_type": "code",
    "executionInfo": {
     "elapsed": 2330,
     "status": "ok",
     "timestamp": 1568910495334,
     "user": {
      "displayName": "Minh Tri Pham",
      "photoUrl": "",
      "userId": "16060185323521223989"
     },
     "user_tz": 300
    },
    "id": "xhCejnEaxCFA",
    "outputId": "81e3ee63-e5eb-48b9-d735-683c368f4c69"
   },
   "outputs": [],
   "source": [
    "a = np.arange(12)\n",
    "b = a\n",
    "print('a =', a)\n",
    "print('b =', b)\n",
    "\n",
    "b.shape = (3, 4)\n",
    "print('After reshaping b to (3, 4)')\n",
    "print('a =\\n', a)\n",
    "print(\"Changing the shape of b also changed the shape of a.\")"
   ]
  },
  {
   "cell_type": "markdown",
   "metadata": {
    "colab_type": "text",
    "id": "Mua4tjcwxCFB"
   },
   "source": [
    " ## 1.16 Array Copy: Deep Copy\n",
    " For an array a, 'a.copy()' creates a new stand-alone array object."
   ]
  },
  {
   "cell_type": "code",
   "execution_count": null,
   "metadata": {
    "colab": {
     "base_uri": "https://localhost:8080/",
     "height": 0
    },
    "colab_type": "code",
    "executionInfo": {
     "elapsed": 2325,
     "status": "ok",
     "timestamp": 1568910495335,
     "user": {
      "displayName": "Minh Tri Pham",
      "photoUrl": "",
      "userId": "16060185323521223989"
     },
     "user_tz": 300
    },
    "id": "BiU6EqWFxCFC",
    "outputId": "dfa48be8-0d66-47af-c51c-030e9a30350f"
   },
   "outputs": [],
   "source": [
    "a = np.arange(12)\n",
    "b = a.copy()\n",
    "print('a =', a)\n",
    "print('b =', b)\n",
    "\n",
    "b.shape = (3, 4)\n",
    "print('After reshaping b to (3, 4)')\n",
    "print('a =\\n', a)\n",
    "print(\"Notice that changing the shape of b does not change the shape of a.\")"
   ]
  },
  {
   "cell_type": "markdown",
   "metadata": {
    "colab_type": "text",
    "id": "AGN8MjEExCFE"
   },
   "source": [
    " ## 1.17 Exercise: Swap two rows in an array"
   ]
  },
  {
   "cell_type": "code",
   "execution_count": null,
   "metadata": {
    "colab": {
     "base_uri": "https://localhost:8080/",
     "height": 0
    },
    "colab_type": "code",
    "executionInfo": {
     "elapsed": 2319,
     "status": "ok",
     "timestamp": 1568910495335,
     "user": {
      "displayName": "Minh Tri Pham",
      "photoUrl": "",
      "userId": "16060185323521223989"
     },
     "user_tz": 300
    },
    "id": "WfuLuPFKxCFE",
    "outputId": "55d784d5-ebfa-4732-877e-f08e0d84c158"
   },
   "outputs": [],
   "source": [
    "\n",
    "a = np.arange(25).reshape(5, 5)\n",
    "\n",
    "# create a new array which is a copy of array a\n",
    "\n",
    "\n",
    "# swap the first and second rows in the new array\n",
    "\n",
    "\n",
    "# display the new array\n",
    "\n",
    "\n",
    "print('Original array a =')\n",
    "print(a)"
   ]
  },
  {
   "cell_type": "code",
   "execution_count": null,
   "metadata": {
    "colab": {
     "base_uri": "https://localhost:8080/",
     "height": 0
    },
    "colab_type": "code",
    "executionInfo": {
     "elapsed": 2314,
     "status": "ok",
     "timestamp": 1568910495336,
     "user": {
      "displayName": "Minh Tri Pham",
      "photoUrl": "",
      "userId": "16060185323521223989"
     },
     "user_tz": 300
    },
    "id": "Cxa1xNh_xCFG",
    "outputId": "d8683e84-e647-4fe4-8bb9-ca495851b67a"
   },
   "outputs": [],
   "source": [
    "# This is a solution to the exercise above\n",
    "\n",
    "a = np.arange(25).reshape(5, 5)\n",
    "b = a.copy()\n",
    "b[[0, 1]] = b[[1, 0]]\n",
    "print(a)\n",
    "print('After swap rows, new array =')\n",
    "print(b)\n",
    "print('Original array a =')\n",
    "print(a)\n",
    "\n",
    "# the following is to swap the first two columns\n",
    "#c = a.copy()\n",
    "#c[:,0:2] = c[:,1::-1]\n",
    "# print(c)\n"
   ]
  },
  {
   "cell_type": "markdown",
   "metadata": {
    "colab_type": "text",
    "id": "3_6iSe7mxCFH"
   },
   "source": [
    " # 2 Matplotlib\n",
    " Matplotlib is a python 2D plotting library. It\n",
    " <ul>\n",
    "     <li> Produces publiction quality figures.\n",
    "     <li> Generates plots, histograms, power spectra, bar charts, etc.\n",
    "     <ul>\n",
    "          <li> The pyplot interface of matplotlib provides a Matlab-like interface.\n",
    "          <li> Full control of line styles, font properties, etc. are provided via an object oriented inteface or a set of functions.\n",
    "          <li> Toolkits are availabe: basemap, cartopy, mplot3d, seaboar, ggplot, etc.\n",
    "     </ul>\n",
    " </ul>\n",
    "\n",
    " ## 2.1 Figures\n",
    " A figure contains plot elements: plot, label, legend, etc.\n",
    " <ul>\n",
    "     <li> The matplotlib.figure module provides full control of figures.\n",
    "     <li> The maplotlib.pyplot provides figure(0 to create a figure.\n",
    " </ul>\n",
    " There is a module in matplotlib called pyplot that provides a collection of functions which work like **MATLAB**."
   ]
  },
  {
   "cell_type": "code",
   "execution_count": 20,
   "metadata": {
    "colab": {
     "base_uri": "https://localhost:8080/",
     "height": 281
    },
    "colab_type": "code",
    "executionInfo": {
     "elapsed": 2791,
     "status": "ok",
     "timestamp": 1568910495818,
     "user": {
      "displayName": "Minh Tri Pham",
      "photoUrl": "",
      "userId": "16060185323521223989"
     },
     "user_tz": 300
    },
    "id": "iABTiREUxCFH",
    "outputId": "8f172e62-2368-44b6-b58c-c93a83f4ecb6"
   },
   "outputs": [
    {
     "data": {
      "image/png": "[encoded data removed]",
      "text/plain": [
       "<Figure size 432x288 with 1 Axes>"
      ]
     },
     "metadata": {
      "needs_background": "light"
     },
     "output_type": "display_data"
    }
   ],
   "source": [
    "%matplotlib inline\n",
    "import matplotlib.pyplot as plt\n",
    "\n",
    "fig = plt.figure()      # create an empty figure\n",
    "plt.title('First Figure')  # put a title on the new empty figure\n",
    "plt.show()            # display the figure"
   ]
  },
  {
   "cell_type": "markdown",
   "metadata": {
    "colab_type": "text",
    "id": "_BQ5tZunxCFJ"
   },
   "source": [
    " ## 2.2 Plotting Data\n",
    " The pyplot.plot() functions plots lines and/or markers to the current figure."
   ]
  },
  {
   "cell_type": "code",
   "execution_count": 67,
   "metadata": {
    "colab": {
     "base_uri": "https://localhost:8080/",
     "height": 269
    },
    "colab_type": "code",
    "executionInfo": {
     "elapsed": 2784,
     "status": "ok",
     "timestamp": 1568910495818,
     "user": {
      "displayName": "Minh Tri Pham",
      "photoUrl": "",
      "userId": "16060185323521223989"
     },
     "user_tz": 300
    },
    "id": "u1JhP5LCxCFK",
    "outputId": "46261ec1-9774-4176-e426-c82a03870f86"
   },
   "outputs": [],
   "source": [
    "%matplotlib inline\n",
    "# draw lines for the input data x and y\n",
    "plt.plot([1, 2, 3, 4], [1, 4, 9, 16])\n",
    "# draw markers (red o) for the input data x and y\n",
    "plt.plot([3, 4, 5, 9], [9, 16, 5, 2], 'ro') \n",
    "plt.show()"
   ]
  },
  {
   "cell_type": "markdown",
   "metadata": {
    "colab_type": "text",
    "id": "VDppxSUvxCFL"
   },
   "source": [
    "'ro' is a format string in this case. The letters and symbols are from MATLAB. "
   ]
  },
  {
   "cell_type": "markdown",
   "metadata": {
    "colab_type": "text",
    "id": "TfS3GV0-xCFL"
   },
   "source": [
    "You can also specify the scale of x and y axes."
   ]
  },
  {
   "cell_type": "code",
   "execution_count": null,
   "metadata": {
    "colab": {
     "base_uri": "https://localhost:8080/",
     "height": 269
    },
    "colab_type": "code",
    "executionInfo": {
     "elapsed": 3269,
     "status": "ok",
     "timestamp": 1568910496310,
     "user": {
      "displayName": "Minh Tri Pham",
      "photoUrl": "",
      "userId": "16060185323521223989"
     },
     "user_tz": 300
    },
    "id": "OPiQOs8JxCFL",
    "outputId": "1877a5f6-1dbe-490a-8a0a-a8a5d4bf40df"
   },
   "outputs": [],
   "source": [
    "%matplotlib inline\n",
    "import matplotlib.pyplot as plt\n",
    "plt.plot([1,2,3,4], [1,4,9,16], 'ro')\n",
    "\n",
    "# specify the axes in the form of [xmin, xmax, ymin, ymax]\n",
    "plt.axis([0, 6, 0, 20])\n",
    "plt.show()"
   ]
  },
  {
   "cell_type": "markdown",
   "metadata": {
    "colab_type": "text",
    "id": "Re1VOKIlxCFM"
   },
   "source": [
    "You can plots several lines using only one *plot()* command. You just need to specify your lines one by one."
   ]
  },
  {
   "cell_type": "code",
   "execution_count": null,
   "metadata": {
    "colab": {
     "base_uri": "https://localhost:8080/",
     "height": 269
    },
    "colab_type": "code",
    "executionInfo": {
     "elapsed": 3363,
     "status": "ok",
     "timestamp": 1568910496411,
     "user": {
      "displayName": "Minh Tri Pham",
      "photoUrl": "",
      "userId": "16060185323521223989"
     },
     "user_tz": 300
    },
    "id": "beeBd6XqxCFN",
    "outputId": "14b6a058-428e-44cf-ce01-d72714958fb4"
   },
   "outputs": [],
   "source": [
    "%matplotlib inline\n",
    "t = np.arange(0, 1, 0.1)\n",
    "\n",
    "# red dashes, blue squares and green triangles\n",
    "plt.plot(t, t, 'r--', t, t**2, 'bs', t, t**3, 'g^')\n",
    "plt.show()"
   ]
  },
  {
   "cell_type": "markdown",
   "metadata": {
    "colab_type": "text",
    "id": "XrQRccXgxCFP"
   },
   "source": [
    "You can also customize your lines using other parameters. Checkout the [documentation](https://matplotlib.org/api/_as_gen/matplotlib.lines.Line2D.html) for details."
   ]
  },
  {
   "cell_type": "markdown",
   "metadata": {
    "colab_type": "text",
    "id": "Z6EfnWU7xCFP"
   },
   "source": [
    " ## 2.3 Multiple Figures\n",
    " Multiple figures can be created and plotted."
   ]
  },
  {
   "cell_type": "code",
   "execution_count": 21,
   "metadata": {
    "colab": {
     "base_uri": "https://localhost:8080/",
     "height": 0
    },
    "colab_type": "code",
    "executionInfo": {
     "elapsed": 3830,
     "status": "ok",
     "timestamp": 1568910496885,
     "user": {
      "displayName": "Minh Tri Pham",
      "photoUrl": "",
      "userId": "16060185323521223989"
     },
     "user_tz": 300
    },
    "id": "alNCCnw9xCFP",
    "outputId": "7feaa3ba-027a-4861-e9fe-932e77b6420e"
   },
   "outputs": [
    {
     "data": {
      "image/png": "[encoded data removed]",
      "text/plain": [
       "<Figure size 432x288 with 1 Axes>"
      ]
     },
     "metadata": {
      "needs_background": "light"
     },
     "output_type": "display_data"
    },
    {
     "data": {
      "image/png": "[encoded data removed]",
      "text/plain": [
       "<Figure size 432x288 with 1 Axes>"
      ]
     },
     "metadata": {
      "needs_background": "light"
     },
     "output_type": "display_data"
    }
   ],
   "source": [
    "%matplotlib inline\n",
    "plt.clf()\n",
    "t = np.arange(0, 10)\n",
    "plt.plot(t, t, 'ro')\n",
    "plt.title(\"Figure 1. A line\")\n",
    "\n",
    "plt.figure()      # create a second figure\n",
    "plt.title(\"Figure 2. Quadratic function\")\n",
    "x = np.arange(-5, 6)\n",
    "plt.plot(x, x**2, 'g^')\n",
    "\n",
    "# you can also add more things to your figures by selecting them using their\n",
    "# indices\n",
    "plt.figure(1)   # select the first figure to plot data\n",
    "plt.plot(t,t, 'b-')\n",
    "plt.figure(2)   # select the second figure to plot data\n",
    "plt.plot(x, x**2, 'b-')\n",
    "plt.show()"
   ]
  },
  {
   "cell_type": "markdown",
   "metadata": {
    "colab_type": "text",
    "id": "gUKVDcquxCFR"
   },
   "source": [
    "## 2.4 Additional properties\n"
   ]
  },
  {
   "cell_type": "code",
   "execution_count": 22,
   "metadata": {
    "colab": {
     "base_uri": "https://localhost:8080/",
     "height": 0
    },
    "colab_type": "code",
    "executionInfo": {
     "elapsed": 4370,
     "status": "ok",
     "timestamp": 1568910497431,
     "user": {
      "displayName": "Minh Tri Pham",
      "photoUrl": "",
      "userId": "16060185323521223989"
     },
     "user_tz": 300
    },
    "id": "B1ZRqC08xCFR",
    "outputId": "9150ae41-2783-406c-b068-106cbf243fa8"
   },
   "outputs": [
    {
     "data": {
      "image/png": "[encoded data removed]",
      "text/plain": [
       "<Figure size 432x288 with 1 Axes>"
      ]
     },
     "metadata": {
      "needs_background": "light"
     },
     "output_type": "display_data"
    }
   ],
   "source": [
    "%matplotlib inline\n",
    "import matplotlib.pyplot as plt\n",
    "import numpy as np\n",
    "\n",
    "x = np.arange(-50, 51, 5)\n",
    "y = x**2\n",
    "plt.plot(x, y, 'ro')\n",
    "\n",
    "# specify plot information, axes, title\n",
    "plt.xlabel('x', fontsize=14, color='green')\n",
    "plt.ylabel('y = x^2', fontsize=14, color='green')\n",
    "plt.title('Plot of quaratic function')\n",
    "\n",
    "# add some text\n",
    "plt.text(0, 0, \"Lowest point (0,0)\")\n",
    "\n",
    "# add a grid if you will\n",
    "plt.grid(True)\n",
    "\n",
    "plt.show()"
   ]
  },
  {
   "cell_type": "markdown",
   "metadata": {
    "colab_type": "text",
    "id": "WxoA9DWFxCFS"
   },
   "source": [
    " #### Legends\n",
    " The pyplot.legend() adds a legend to a figure."
   ]
  },
  {
   "cell_type": "code",
   "execution_count": 23,
   "metadata": {
    "colab": {
     "base_uri": "https://localhost:8080/",
     "height": 0
    },
    "colab_type": "code",
    "executionInfo": {
     "elapsed": 4655,
     "status": "ok",
     "timestamp": 1568910497721,
     "user": {
      "displayName": "Minh Tri Pham",
      "photoUrl": "",
      "userId": "16060185323521223989"
     },
     "user_tz": 300
    },
    "id": "-NUhBgBZxCFS",
    "outputId": "be0e7952-305c-44d9-d2ad-b45897fc3a36"
   },
   "outputs": [
    {
     "data": {
      "image/png": "[encoded data removed]",
      "text/plain": [
       "<Figure size 432x288 with 1 Axes>"
      ]
     },
     "metadata": {
      "needs_background": "light"
     },
     "output_type": "display_data"
    }
   ],
   "source": [
    "%matplotlib inline\n",
    "z = np.random.random(10)\n",
    "red_dot, = plt.plot(z, \"ro\", markersize=15)\n",
    "blue_cross, = plt.plot(z[:5], \"b+\", markeredgewidth=3, markersize=15)\n",
    "plt.legend([red_dot, (red_dot, blue_cross)], [\"Attr A\", \"Attr A-B\"])\n",
    "plt.title(\"Experiment A\")\n",
    "plt.show()\n"
   ]
  },
  {
   "cell_type": "markdown",
   "metadata": {
    "colab_type": "text",
    "id": "5kFL7RKFxCFU"
   },
   "source": [
    " ## 2.5 Mandelrot Set"
   ]
  },
  {
   "cell_type": "markdown",
   "metadata": {
    "colab_type": "text",
    "id": "z0pNjRdZxCFV"
   },
   "source": [
    "This example was taken from scipy-lectures.org. Follow this [link](https://scipy-lectures.org/intro/numpy/auto_examples/plot_mandelbrot.html) for more information"
   ]
  },
  {
   "cell_type": "code",
   "execution_count": 24,
   "metadata": {
    "colab": {
     "base_uri": "https://localhost:8080/",
     "height": 0
    },
    "colab_type": "code",
    "executionInfo": {
     "elapsed": 4746,
     "status": "ok",
     "timestamp": 1568910497818,
     "user": {
      "displayName": "Minh Tri Pham",
      "photoUrl": "",
      "userId": "16060185323521223989"
     },
     "user_tz": 300
    },
    "id": "8EE4m3DWxCFV",
    "outputId": "d31ad104-ac2c-4c4d-d971-ee5ff931d21a"
   },
   "outputs": [
    {
     "name": "stderr",
     "output_type": "stream",
     "text": [
      "/sw/hprc/sw/Python/virtualenvs/Python/3.6.6-foss-2018b/jupyter_notebook/lib/python3.6/site-packages/ipykernel_launcher.py:17: RuntimeWarning: overflow encountered in square\n",
      "/sw/hprc/sw/Python/virtualenvs/Python/3.6.6-foss-2018b/jupyter_notebook/lib/python3.6/site-packages/ipykernel_launcher.py:17: RuntimeWarning: invalid value encountered in square\n",
      "/sw/hprc/sw/Python/virtualenvs/Python/3.6.6-foss-2018b/jupyter_notebook/lib/python3.6/site-packages/ipykernel_launcher.py:19: RuntimeWarning: invalid value encountered in less\n"
     ]
    },
    {
     "data": {
      "image/png": "[encoded data removed]",
      "text/plain": [
       "<Figure size 432x288 with 1 Axes>"
      ]
     },
     "metadata": {
      "needs_background": "light"
     },
     "output_type": "display_data"
    }
   ],
   "source": [
    "%matplotlib inline\n",
    "import numpy as np\n",
    "import matplotlib.pyplot as plt\n",
    "from numpy import newaxis\n",
    "\n",
    "def compute_mandelbrot(N_max, some_threshold, nx, ny):\n",
    "    # A grid of c-values\n",
    "    x = np.linspace(-2, 1, nx)\n",
    "    y = np.linspace(-1.5, 1.5, ny)\n",
    "\n",
    "    c = x[:,newaxis] + 1j*y[newaxis,:]\n",
    "\n",
    "    # Mandelbrot iteration\n",
    "\n",
    "    z = c\n",
    "    for j in range(N_max):\n",
    "        z = z**2 + c\n",
    "\n",
    "    mandelbrot_set = (abs(z) < some_threshold)\n",
    "\n",
    "    return mandelbrot_set\n",
    "\n",
    "mandelbrot_set = compute_mandelbrot(50, 50., 601, 401)\n",
    "\n",
    "plt.imshow(mandelbrot_set.T, extent=[-2, 1, -1.5, 1.5])\n",
    "plt.gray()\n",
    "plt.show()"
   ]
  },
  {
   "cell_type": "markdown",
   "metadata": {
    "colab_type": "text",
    "id": "oXH69BaIxCFW"
   },
   "source": [
    "### Additional examples\n",
    "The below example was taken from [Contour plot of irregular spaced data](https://matplotlib.org/3.1.1/gallery/images_contours_and_fields/irregulardatagrid.html#sphx-glr-gallery-images-contours-and-fields-irregulardatagrid-py). It is one of many fancy examples on Matplotlib website. For more of them, see [the gallery](https://matplotlib.org/3.1.1/gallery/index.html)"
   ]
  },
  {
   "cell_type": "code",
   "execution_count": 25,
   "metadata": {
    "colab": {
     "base_uri": "https://localhost:8080/",
     "height": 0
    },
    "colab_type": "code",
    "executionInfo": {
     "elapsed": 5603,
     "status": "ok",
     "timestamp": 1568910498682,
     "user": {
      "displayName": "Minh Tri Pham",
      "photoUrl": "",
      "userId": "16060185323521223989"
     },
     "user_tz": 300
    },
    "id": "ikLPVuzPxCFW",
    "outputId": "3eb66284-1931-4342-972c-1af0c8707f1c"
   },
   "outputs": [
    {
     "data": {
      "image/png": "[encoded data removed]",
      "text/plain": [
       "<Figure size 432x288 with 4 Axes>"
      ]
     },
     "metadata": {
      "needs_background": "light"
     },
     "output_type": "display_data"
    }
   ],
   "source": [
    "%matplotlib inline\n",
    "import matplotlib.pyplot as plt\n",
    "import matplotlib.tri as tri\n",
    "import numpy as np\n",
    "\n",
    "np.random.seed(19680801)\n",
    "npts = 200\n",
    "ngridx = 100\n",
    "ngridy = 200\n",
    "x = np.random.uniform(-2, 2, npts)\n",
    "y = np.random.uniform(-2, 2, npts)\n",
    "z = x * np.exp(-x**2 - y**2)\n",
    "\n",
    "fig, (ax1, ax2) = plt.subplots(nrows=2)\n",
    "\n",
    "# -----------------------\n",
    "# Interpolation on a grid\n",
    "# -----------------------\n",
    "# A contour plot of irregularly spaced data coordinates\n",
    "# via interpolation on a grid.\n",
    "\n",
    "# Create grid values first.\n",
    "xi = np.linspace(-2.1, 2.1, ngridx)\n",
    "yi = np.linspace(-2.1, 2.1, ngridy)\n",
    "\n",
    "# Perform linear interpolation of the data (x,y)\n",
    "# on a grid defined by (xi,yi)\n",
    "triang = tri.Triangulation(x, y)\n",
    "interpolator = tri.LinearTriInterpolator(triang, z)\n",
    "Xi, Yi = np.meshgrid(xi, yi)\n",
    "zi = interpolator(Xi, Yi)\n",
    "\n",
    "# Note that scipy.interpolate provides means to interpolate data on a grid\n",
    "# as well. The following would be an alternative to the four lines above:\n",
    "#from scipy.interpolate import griddata\n",
    "#zi = griddata((x, y), z, (xi[None,:], yi[:,None]), method='linear')\n",
    "\n",
    "\n",
    "ax1.contour(xi, yi, zi, levels=14, linewidths=0.5, colors='k')\n",
    "cntr1 = ax1.contourf(xi, yi, zi, levels=14, cmap=\"RdBu_r\")\n",
    "\n",
    "fig.colorbar(cntr1, ax=ax1)\n",
    "ax1.plot(x, y, 'ko', ms=3)\n",
    "ax1.set(xlim=(-2, 2), ylim=(-2, 2))\n",
    "ax1.set_title('grid and contour (%d points, %d grid points)' %\n",
    "              (npts, ngridx * ngridy))\n",
    "\n",
    "\n",
    "# ----------\n",
    "# Tricontour\n",
    "# ----------\n",
    "# Directly supply the unordered, irregularly spaced coordinates\n",
    "# to tricontour.\n",
    "\n",
    "ax2.tricontour(x, y, z, levels=14, linewidths=0.5, colors='k')\n",
    "cntr2 = ax2.tricontourf(x, y, z, levels=14, cmap=\"RdBu_r\")\n",
    "\n",
    "fig.colorbar(cntr2, ax=ax2)\n",
    "ax2.plot(x, y, 'ko', ms=3)\n",
    "ax2.set(xlim=(-2, 2), ylim=(-2, 2))\n",
    "ax2.set_title('tricontour (%d points)' % npts)\n",
    "\n",
    "plt.subplots_adjust(hspace=0.5)\n",
    "plt.show()"
   ]
  },
  {
   "cell_type": "markdown",
   "metadata": {
    "colab_type": "text",
    "id": "iFqaTUhxxCFX"
   },
   "source": [
    "# 3 Scipy\n",
    "Scipy is a collection of mathematical algorithms and functions build on NumPy. It is organized into subpackages covering variuos computing domains:\n",
    " <ul>\n",
    "     <li> Cluster: clustering algorithms\n",
    "     <li> Ftppack: fast Fourier Transform routinges\n",
    "     <li> Linalg: linear algebra\n",
    "     <li> Optimzie: optimization and root-finding routines\n",
    "     <li> Sparse: sparse matrices and associated routines\n",
    "     <li> and more ...\n",
    " </ul>\n",
    " For a complete and thorough introduction to SciPy, visit this [link](https://docs.scipy.org/doc/scipy/reference/tutorial/general.html)"
   ]
  },
  {
   "cell_type": "markdown",
   "metadata": {
    "colab_type": "text",
    "id": "I7T5QOeExCFY"
   },
   "source": [
    "## 3.1 Scipy Linear Algebra\n",
    " Sicpy.linalg provides all functions in numpy.linalg, plus some other more advanced functions. [documentation](https://docs.scipy.org/doc/scipy/reference/linalg.html#module-scipy.linalg)\n",
    " <ul>\n",
    "     <li> Scipy.linalg is preferred unless you do not want the dependency on scipy which requires a Fortran compiler since it is a warpping of Fortran LAPACK using f2py.\n",
    "     <li> Scipy.linalg is always compiled with BLAS/LAPACK support (faster), while this is optional for numpy.\n",
    "     <li> All of the BLAS/LAPACK functions are available to use in scipy.\n",
    " </ul>\n",
    " For example, scipy.linalg.solve(A, b) (faster than linalg.inv(A).dot(b)) can be used to solve the following equations:<br>\n",
    " ```\n",
    "  x + 3y = 10\n",
    " 2x + 5y = 20\n",
    " ```"
   ]
  },
  {
   "cell_type": "code",
   "execution_count": null,
   "metadata": {
    "colab": {
     "base_uri": "https://localhost:8080/",
     "height": 0
    },
    "colab_type": "code",
    "executionInfo": {
     "elapsed": 5598,
     "status": "ok",
     "timestamp": 1568910498682,
     "user": {
      "displayName": "Minh Tri Pham",
      "photoUrl": "",
      "userId": "16060185323521223989"
     },
     "user_tz": 300
    },
    "id": "jAFd9eldxCFY",
    "outputId": "9a46066b-90ed-4b96-a47e-05e3365975fa"
   },
   "outputs": [],
   "source": [
    "from scipy import linalg\n",
    "A = np.array([\n",
    "    [1, 3], \n",
    "    [2, 5]\n",
    "])\n",
    "\n",
    "b = np.array([\n",
    "    [10], \n",
    "    [20]\n",
    "])\n",
    "\n",
    "print('A =')\n",
    "print(A)\n",
    "print('\\nb =')\n",
    "print(b)\n",
    "print('\\nThe solution of the equations Ax=b is linalg.solve(A, b) =')\n",
    "print(linalg.solve(A, b))"
   ]
  },
  {
   "cell_type": "markdown",
   "metadata": {
    "colab_type": "text",
    "id": "GHtCe274xCFZ"
   },
   "source": [
    "**Example:** Compute the determinant of square matrix. "
   ]
  },
  {
   "cell_type": "code",
   "execution_count": null,
   "metadata": {
    "colab": {
     "base_uri": "https://localhost:8080/",
     "height": 0
    },
    "colab_type": "code",
    "executionInfo": {
     "elapsed": 5593,
     "status": "ok",
     "timestamp": 1568910498683,
     "user": {
      "displayName": "Minh Tri Pham",
      "photoUrl": "",
      "userId": "16060185323521223989"
     },
     "user_tz": 300
    },
    "id": "ugnaH2OKxCFa",
    "outputId": "ac24a477-bc30-4246-8fff-7468ed5778b8"
   },
   "outputs": [],
   "source": [
    "from scipy import linalg\n",
    "a = np.array([[1,2,3], [4,5,6], [7,8,9]])\n",
    "determinant = linalg.det(a)\n",
    "\n",
    "print(f\"a = \\n{a}\\n\")\n",
    "print(f\"Determinant of a = {determinant}\")"
   ]
  },
  {
   "cell_type": "markdown",
   "metadata": {
    "colab_type": "text",
    "id": "d1SyVqxQxCFb"
   },
   "source": [
    "**Example**: Compute matrix inverse"
   ]
  },
  {
   "cell_type": "code",
   "execution_count": null,
   "metadata": {
    "colab": {
     "base_uri": "https://localhost:8080/",
     "height": 0
    },
    "colab_type": "code",
    "executionInfo": {
     "elapsed": 5586,
     "status": "ok",
     "timestamp": 1568910498683,
     "user": {
      "displayName": "Minh Tri Pham",
      "photoUrl": "",
      "userId": "16060185323521223989"
     },
     "user_tz": 300
    },
    "id": "FymWbBfqxCFb",
    "outputId": "3cf10242-6c00-41af-ac7f-f5c6a1a41c7b"
   },
   "outputs": [],
   "source": [
    "A = np.array([\n",
    "    [1,2],\n",
    "    [3,4]\n",
    "])\n",
    "\n",
    "print(f\"A = \\n{a}\\n\")\n",
    "\n",
    "A_inverse = linalg.inv(A)\n",
    "print(f\"A_inverse = \\n{A_inverse}\\n\")\n",
    "\n",
    "print(\"Let's verify the result by calculating A dot A_inverse\")\n",
    "I = A.dot(A_inverse)\n",
    "print(f\"A dot A_inverse = \\n{np.floor(I)}\")"
   ]
  },
  {
   "cell_type": "markdown",
   "metadata": {
    "colab_type": "text",
    "id": "Fh7VfQtlxCFc"
   },
   "source": [
    " # 4 Numba\n",
    "\n",
    " [Numba](https://numba.pydata.org) is a just-in-time ([JIT](https://en.wikipedia.org/wiki/Just-in-time_compilation)) compiler for Python (It's OK if this term does not make sense to you. In a nutshell, this compilation technique bring your code closer to the actual hardware which in turn speed up the program execution time. This technique when apply to Python can speedup your program significantly in many scenarios. Numba is a JIT compiler for Python. It plays nicely with NumPy and Jupyter notebooks.    \n",
    "The following examples are adopted from http://numba.pydata.org/numba-doc/0.12/tutorial_numpy_and_numba.html. "
   ]
  },
  {
   "cell_type": "code",
   "execution_count": null,
   "metadata": {
    "colab": {},
    "colab_type": "code",
    "id": "KT6OEAYWxCFd"
   },
   "outputs": [],
   "source": [
    "def sum_all(A):\n",
    "    \"\"\"Naive sum of elements of an array... assumes one dimensional array of floats\"\"\"\n",
    "    acc = 0.0\n",
    "    for i in range(A.shape[0]):\n",
    "        acc += A[i]\n",
    "    return acc"
   ]
  },
  {
   "cell_type": "code",
   "execution_count": null,
   "metadata": {
    "colab": {},
    "colab_type": "code",
    "id": "2pMefvL6xCFd"
   },
   "outputs": [],
   "source": [
    "sample_array = np.arange(10000.0)"
   ]
  },
  {
   "cell_type": "code",
   "execution_count": null,
   "metadata": {
    "colab": {
     "base_uri": "https://localhost:8080/",
     "height": 34
    },
    "colab_type": "code",
    "executionInfo": {
     "elapsed": 12709,
     "status": "ok",
     "timestamp": 1568910505817,
     "user": {
      "displayName": "Minh Tri Pham",
      "photoUrl": "",
      "userId": "16060185323521223989"
     },
     "user_tz": 300
    },
    "id": "pqZ5ikKXxCFe",
    "outputId": "006d3a37-cd94-40e1-de20-35d55f291170"
   },
   "outputs": [],
   "source": [
    "get_ipython().run_line_magic('timeit', 'sum_all(sample_array)')"
   ]
  },
  {
   "cell_type": "code",
   "execution_count": null,
   "metadata": {
    "colab": {
     "base_uri": "https://localhost:8080/",
     "height": 51
    },
    "colab_type": "code",
    "executionInfo": {
     "elapsed": 16381,
     "status": "ok",
     "timestamp": 1568910509498,
     "user": {
      "displayName": "Minh Tri Pham",
      "photoUrl": "",
      "userId": "16060185323521223989"
     },
     "user_tz": 300
    },
    "id": "PG0BooUuxCFf",
    "outputId": "8d6cf4e9-d031-4b07-b30d-ff64bbd45d0b"
   },
   "outputs": [],
   "source": [
    "get_ipython().run_line_magic('timeit', 'np.sum(sample_array)')"
   ]
  },
  {
   "cell_type": "code",
   "execution_count": null,
   "metadata": {
    "colab": {},
    "colab_type": "code",
    "id": "u4M5Y1gLxCFh"
   },
   "outputs": [],
   "source": [
    "from numba import jit\n",
    "@jit\n",
    "def sum_all_numba(A):\n",
    "    \"\"\"Naive sum of elements of an array... assumes one dimensional array of floats\"\"\"\n",
    "    acc = 0.0\n",
    "    for i in range(A.shape[0]):\n",
    "        acc += A[i]\n",
    "    return acc"
   ]
  },
  {
   "cell_type": "code",
   "execution_count": null,
   "metadata": {
    "colab": {
     "base_uri": "https://localhost:8080/",
     "height": 51
    },
    "colab_type": "code",
    "executionInfo": {
     "elapsed": 21126,
     "status": "ok",
     "timestamp": 1568910514261,
     "user": {
      "displayName": "Minh Tri Pham",
      "photoUrl": "",
      "userId": "16060185323521223989"
     },
     "user_tz": 300
    },
    "id": "Fru0aThXxCFh",
    "outputId": "bf835869-5a9d-4347-a017-ac3341911e27"
   },
   "outputs": [],
   "source": [
    "get_ipython().run_line_magic('timeit', 'sum_all_numba(sample_array)')"
   ]
  },
  {
   "cell_type": "markdown",
   "metadata": {
    "colab_type": "text",
    "id": "XLxrp21nxCFk"
   },
   "source": [
    " # 5 Errors in Scientific Computing\n",
    "\n",
    " ## 5.1 Precision for Floating Point Numbers\n",
    " A floating point number is stored with finite bits in a computer\n",
    " <ul>\n",
    "     <li>A single-precision floating point number is stored as 32 bits\n",
    "     <li>A double-precision floating point number is stored as 64 bits\n",
    "     <li>A floating point number normally is not displayed accurately. It is displayed with fewer digits for better readability.\n",
    " <ul>"
   ]
  },
  {
   "cell_type": "code",
   "execution_count": null,
   "metadata": {
    "colab": {
     "base_uri": "https://localhost:8080/",
     "height": 51
    },
    "colab_type": "code",
    "executionInfo": {
     "elapsed": 21119,
     "status": "ok",
     "timestamp": 1568910514261,
     "user": {
      "displayName": "Minh Tri Pham",
      "photoUrl": "",
      "userId": "16060185323521223989"
     },
     "user_tz": 300
    },
    "id": "imvA5uq_xCFl",
    "outputId": "1874472a-4f72-4556-8a84-baddd1cda232"
   },
   "outputs": [],
   "source": [
    "a = np.arange(7.8, 8.4, 0.05)\n",
    "print(a)\n",
    "print('a[12] is actually', '{0:.55f}'.format(a[12]))"
   ]
  },
  {
   "cell_type": "markdown",
   "metadata": {
    "colab_type": "text",
    "id": "OgZr6uqzxCFl"
   },
   "source": [
    " ## 5.2 Error for Comparing Floating Point Numbers\n",
    " The result may surprise you when two floating point numbers are compared"
   ]
  },
  {
   "cell_type": "code",
   "execution_count": null,
   "metadata": {
    "colab": {
     "base_uri": "https://localhost:8080/",
     "height": 85
    },
    "colab_type": "code",
    "executionInfo": {
     "elapsed": 21112,
     "status": "ok",
     "timestamp": 1568910514262,
     "user": {
      "displayName": "Minh Tri Pham",
      "photoUrl": "",
      "userId": "16060185323521223989"
     },
     "user_tz": 300
    },
    "id": "8ou3ZNnjxCFm",
    "outputId": "e5346c15-6b74-4141-ba7f-a5468679d96a"
   },
   "outputs": [],
   "source": [
    "print(0.1 + 0.1 + 0.1 == 0.3)\n",
    "print('0.1 is actually stored as', '{0:.55f}'.format(0.1))\n",
    "print('0.3 is actually stored as', '{0:.55f}'.format(0.3))\n",
    "print('0.1 + 0.1 + 0.1 is actually stored as',\n",
    "      '{0:.55f}'.format(0.1 + 0.1 + 0.1))"
   ]
  },
  {
   "cell_type": "markdown",
   "metadata": {
    "colab_type": "text",
    "id": "QEWjlc6_xCFm"
   },
   "source": [
    " How to handle issues like this?\n",
    "\n",
    " This cannot be covered in this course. More study on numeric computation is needed. A simple approach is to claim that 0.1 + 0.1 + 0.1 == 0.3 is True if abs(0.1 + 0.1 + 0.1 - 0.3) < epsilon (a small number, e.g., 0.000001). Numpy provides a function allclose() to check whether two numbers/arrays are close eough to be considered equal."
   ]
  },
  {
   "cell_type": "code",
   "execution_count": null,
   "metadata": {
    "colab": {
     "base_uri": "https://localhost:8080/",
     "height": 34
    },
    "colab_type": "code",
    "executionInfo": {
     "elapsed": 21104,
     "status": "ok",
     "timestamp": 1568910514262,
     "user": {
      "displayName": "Minh Tri Pham",
      "photoUrl": "",
      "userId": "16060185323521223989"
     },
     "user_tz": 300
    },
    "id": "Id1QYYEKxCFn",
    "outputId": "5183b00e-2dee-4590-e480-0f239b7a8c24"
   },
   "outputs": [],
   "source": [
    "np.allclose(0.1+0.1+0.1, 0.3)"
   ]
  },
  {
   "cell_type": "markdown",
   "metadata": {
    "colab_type": "text",
    "id": "3TD_OffyxCFn"
   },
   "source": [
    " # More on Python\n",
    " <ul>\n",
    "     <li>https://www.labri.fr/perso/nrougier/teaching/matplotlib/\n",
    "     <li>http://nbviewer.jupyter.org/github/jrjohansson/scientific-python-lectures/blob/master/Lecture-4-Matplotlib.ipynb\n",
    " </ul>"
   ]
  }
 ],
 "metadata": {
  "colab": {
   "collapsed_sections": [
    "t4KwPfFixCD1",
    "AdvhFeL9xCEA",
    "DhKjY2-FxCED",
    "DRImK3ZexCEH",
    "8j7tZ4sTxCEN",
    "JXgPgX2DxCEN",
    "2Jf6iN-YxCET",
    "FyEmOtyIxCEZ",
    "ROaSIuAJxCEp",
    "zEJJA0wExCEr",
    "YtbWWsYExCEz",
    "5J65h-g9xCE3",
    "JswCYDb_xCE4",
    "SJPWRlUqxCE6",
    "MnsHEZXixCE-",
    "G8hOKvvExCFA",
    "Mua4tjcwxCFB",
    "AGN8MjEExCFE",
    "Z6EfnWU7xCFP",
    "gUKVDcquxCFR",
    "WxoA9DWFxCFS",
    "5kFL7RKFxCFU",
    "oXH69BaIxCFW",
    "I7T5QOeExCFY"
   ],
   "name": "Updated-Scientific-Python.ipynb",
   "provenance": [],
   "toc_visible": true
  },
  "file_extension": ".py",
  "kernelspec": {
   "display_name": "Python 3",
   "language": "python",
   "name": "python3"
  },
  "language_info": {
   "codemirror_mode": {
    "name": "ipython",
    "version": 3
   },
   "file_extension": ".py",
   "mimetype": "text/x-python",
   "name": "python",
   "nbconvert_exporter": "python",
   "pygments_lexer": "ipython3",
   "version": "3.6.6"
  },
  "mimetype": "text/x-python",
  "name": "python",
  "npconvert_exporter": "python",
  "pygments_lexer": "ipython3",
  "version": 3
 },
 "nbformat": 4,
 "nbformat_minor": 1
}
